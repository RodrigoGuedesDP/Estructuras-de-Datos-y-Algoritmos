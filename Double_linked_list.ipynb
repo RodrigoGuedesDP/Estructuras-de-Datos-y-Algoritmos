{
  "nbformat": 4,
  "nbformat_minor": 0,
  "metadata": {
    "colab": {
      "provenance": [],
      "authorship_tag": "ABX9TyNMdyz/fQNgLFst6iRsHmMk",
      "include_colab_link": true
    },
    "kernelspec": {
      "name": "python3",
      "display_name": "Python 3"
    },
    "language_info": {
      "name": "python"
    }
  },
  "cells": [
    {
      "cell_type": "markdown",
      "metadata": {
        "id": "view-in-github",
        "colab_type": "text"
      },
      "source": [
        "<a href=\"https://colab.research.google.com/github/RodrigoGuedesDP/Estructuras-de-Datos-y-Algoritmos/blob/main/Double_linked_list.ipynb\" target=\"_parent\"><img src=\"https://colab.research.google.com/assets/colab-badge.svg\" alt=\"Open In Colab\"/></a>"
      ]
    },
    {
      "cell_type": "code",
      "execution_count": 20,
      "metadata": {
        "id": "XIZIKGtAflEr"
      },
      "outputs": [],
      "source": [
        "from types import NotImplementedType\n",
        "class Node:\n",
        "  def __init__(self, data):\n",
        "    self.data = data\n",
        "    self.next = None\n",
        "    self.prev = None\n",
        "\n",
        "class LinkedList:\n",
        "  def __init__(self):\n",
        "    self.head = None\n",
        "    self.tail = None\n",
        "\n",
        "  def display(self):\n",
        "    temp = self.head\n",
        "    while temp:\n",
        "      print(temp.data, end = \"--->\")\n",
        "      temp = temp.next\n",
        "    print(\"None\")\n",
        "\n",
        "  def push_front(self, value):\n",
        "    node = Node(value)\n",
        "    head = self.head\n",
        "    node.next = head\n",
        "    head.prev = node\n",
        "    self.head = node\n",
        "\n",
        "  def push_back(self,value):\n",
        "    node = Node(value)\n",
        "    tail = self.tail\n",
        "    tail.next = node\n",
        "    node.prev = tail\n",
        "    self.tail = node\n",
        "\n",
        "  def pop_front(self):\n",
        "    head = self.head\n",
        "    self.head = head.next\n",
        "    del head.prev\n",
        "\n",
        "  def pop_back(self):\n",
        "    tail = self.tail\n",
        "    self.tail = tail.prev\n",
        "    del tail.next\n",
        "    tail.next = None\n",
        "\n",
        "  def insert(self, value, pos):\n",
        "    head = self.head\n",
        "    temp = head\n",
        "    node = Node(value)\n",
        "    location = 0\n",
        "    while location < pos:\n",
        "      temp = temp.next\n",
        "\n",
        "  def size(self):\n",
        "    head = self.head\n",
        "    count = 0\n",
        "    temp = head\n",
        "    while temp:\n",
        "      temp = temp.next\n",
        "      count += 1\n",
        "    return count\n",
        "\n",
        "  def __getitem__(self,index):\n",
        "    if index < 0 or index >= self.size():\n",
        "      raise IndexError(\"El indice esta fuera de rango\")\n",
        "    else:\n",
        "      temp = self.head\n",
        "      for _ in range(index):\n",
        "        temp = temp.next\n",
        "      return temp.data\n",
        "\n",
        "\n",
        "\n",
        "\n",
        "\n",
        "\n",
        "\n",
        "\n",
        "\n",
        "\n",
        "\n",
        "\n",
        "\n",
        "\n",
        "node1 = Node(6)\n",
        "node2 = Node(2)\n",
        "node3 = Node(9)\n",
        "node4 = Node(0)\n",
        "node5 = Node(3)\n",
        "\n",
        "\n",
        "node1.next = node2\n",
        "node2.next = node3\n",
        "node3.next = node4\n",
        "node4.next = node5\n",
        "\n",
        "node2.prev = node1\n",
        "node3.prev = node2\n",
        "node4.prev = node3\n",
        "node5.prev = node4\n",
        "\n"
      ]
    },
    {
      "cell_type": "code",
      "source": [
        "# push front 5\n",
        "list1 = LinkedList()\n",
        "list1.head = node1\n",
        "list1.tail = node5\n",
        "list1.display()\n",
        "list1.push_front(value = 5)\n",
        "list1.display()\n",
        "\n",
        "\n"
      ],
      "metadata": {
        "colab": {
          "base_uri": "https://localhost:8080/"
        },
        "id": "rbfxygi_g4Ao",
        "outputId": "c3865182-0946-491b-c014-02dead11b8e4"
      },
      "execution_count": 8,
      "outputs": [
        {
          "output_type": "stream",
          "name": "stdout",
          "text": [
            "6--->2--->9--->0--->3--->None\n",
            "5--->6--->2--->9--->0--->3--->None\n"
          ]
        }
      ]
    },
    {
      "cell_type": "code",
      "source": [
        "# push back 5\n",
        "list1 = LinkedList()\n",
        "list1.head = node1\n",
        "list1.tail = node5\n",
        "list1.display()\n",
        "list1.push_back(value = 5)\n",
        "list1.display()\n"
      ],
      "metadata": {
        "colab": {
          "base_uri": "https://localhost:8080/"
        },
        "id": "LrDvjYVzi6ms",
        "outputId": "91d2bfcb-f0e1-421d-a464-9ed6dbb8646a"
      },
      "execution_count": 10,
      "outputs": [
        {
          "output_type": "stream",
          "name": "stdout",
          "text": [
            "6--->2--->9--->0--->3--->None\n",
            "6--->2--->9--->0--->3--->5--->None\n"
          ]
        }
      ]
    },
    {
      "cell_type": "code",
      "source": [
        "#pop front\n",
        "list1 = LinkedList()\n",
        "list1.head = node1\n",
        "list1.tail = node5\n",
        "list1.display()\n",
        "list1.pop_front()\n",
        "list1.display()"
      ],
      "metadata": {
        "colab": {
          "base_uri": "https://localhost:8080/"
        },
        "id": "JtXyb5gMjlUe",
        "outputId": "3155016a-2307-4406-8bbb-b75f9d26307f"
      },
      "execution_count": 12,
      "outputs": [
        {
          "output_type": "stream",
          "name": "stdout",
          "text": [
            "6--->2--->9--->0--->3--->None\n",
            "2--->9--->0--->3--->None\n"
          ]
        }
      ]
    },
    {
      "cell_type": "code",
      "source": [
        "#pop back\n",
        "list1 = LinkedList()\n",
        "list1.head = node1\n",
        "list1.tail = node5\n",
        "list1.display()\n",
        "list1.pop_back()\n",
        "list1.display()\n",
        "\n",
        "list1[5]"
      ],
      "metadata": {
        "colab": {
          "base_uri": "https://localhost:8080/",
          "height": 332
        },
        "id": "0DyXAOl_jnsX",
        "outputId": "65c9505a-b463-455b-e457-7328f4726e1f"
      },
      "execution_count": 21,
      "outputs": [
        {
          "output_type": "stream",
          "name": "stdout",
          "text": [
            "6--->2--->9--->0--->3--->None\n",
            "6--->2--->9--->0--->3--->None\n"
          ]
        },
        {
          "output_type": "error",
          "ename": "IndexError",
          "evalue": "El indice esta fuera de rango",
          "traceback": [
            "\u001b[0;31m---------------------------------------------------------------------------\u001b[0m",
            "\u001b[0;31mIndexError\u001b[0m                                Traceback (most recent call last)",
            "\u001b[0;32m<ipython-input-21-14fcedbee94d>\u001b[0m in \u001b[0;36m<cell line: 0>\u001b[0;34m()\u001b[0m\n\u001b[1;32m      7\u001b[0m \u001b[0mlist1\u001b[0m\u001b[0;34m.\u001b[0m\u001b[0mdisplay\u001b[0m\u001b[0;34m(\u001b[0m\u001b[0;34m)\u001b[0m\u001b[0;34m\u001b[0m\u001b[0;34m\u001b[0m\u001b[0m\n\u001b[1;32m      8\u001b[0m \u001b[0;34m\u001b[0m\u001b[0m\n\u001b[0;32m----> 9\u001b[0;31m \u001b[0mlist1\u001b[0m\u001b[0;34m[\u001b[0m\u001b[0;36m5\u001b[0m\u001b[0;34m]\u001b[0m\u001b[0;34m\u001b[0m\u001b[0;34m\u001b[0m\u001b[0m\n\u001b[0m",
            "\u001b[0;32m<ipython-input-20-cb81e4050bdb>\u001b[0m in \u001b[0;36m__getitem__\u001b[0;34m(self, index)\u001b[0m\n\u001b[1;32m     62\u001b[0m   \u001b[0;32mdef\u001b[0m \u001b[0m__getitem__\u001b[0m\u001b[0;34m(\u001b[0m\u001b[0mself\u001b[0m\u001b[0;34m,\u001b[0m\u001b[0mindex\u001b[0m\u001b[0;34m)\u001b[0m\u001b[0;34m:\u001b[0m\u001b[0;34m\u001b[0m\u001b[0;34m\u001b[0m\u001b[0m\n\u001b[1;32m     63\u001b[0m     \u001b[0;32mif\u001b[0m \u001b[0mindex\u001b[0m \u001b[0;34m<\u001b[0m \u001b[0;36m0\u001b[0m \u001b[0;32mor\u001b[0m \u001b[0mindex\u001b[0m \u001b[0;34m>=\u001b[0m \u001b[0mself\u001b[0m\u001b[0;34m.\u001b[0m\u001b[0msize\u001b[0m\u001b[0;34m(\u001b[0m\u001b[0;34m)\u001b[0m\u001b[0;34m:\u001b[0m\u001b[0;34m\u001b[0m\u001b[0;34m\u001b[0m\u001b[0m\n\u001b[0;32m---> 64\u001b[0;31m       \u001b[0;32mraise\u001b[0m \u001b[0mIndexError\u001b[0m\u001b[0;34m(\u001b[0m\u001b[0;34m\"El indice esta fuera de rango\"\u001b[0m\u001b[0;34m)\u001b[0m\u001b[0;34m\u001b[0m\u001b[0;34m\u001b[0m\u001b[0m\n\u001b[0m\u001b[1;32m     65\u001b[0m     \u001b[0;32melse\u001b[0m\u001b[0;34m:\u001b[0m\u001b[0;34m\u001b[0m\u001b[0;34m\u001b[0m\u001b[0m\n\u001b[1;32m     66\u001b[0m       \u001b[0mtemp\u001b[0m \u001b[0;34m=\u001b[0m \u001b[0mself\u001b[0m\u001b[0;34m.\u001b[0m\u001b[0mhead\u001b[0m\u001b[0;34m\u001b[0m\u001b[0;34m\u001b[0m\u001b[0m\n",
            "\u001b[0;31mIndexError\u001b[0m: El indice esta fuera de rango"
          ]
        }
      ]
    }
  ]
}