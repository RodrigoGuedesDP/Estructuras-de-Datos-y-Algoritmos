{
  "nbformat": 4,
  "nbformat_minor": 0,
  "metadata": {
    "colab": {
      "provenance": [],
      "authorship_tag": "ABX9TyPrAeLd98P+XT81RAPWRhBX",
      "include_colab_link": true
    },
    "kernelspec": {
      "name": "python3",
      "display_name": "Python 3"
    },
    "language_info": {
      "name": "python"
    }
  },
  "cells": [
    {
      "cell_type": "markdown",
      "metadata": {
        "id": "view-in-github",
        "colab_type": "text"
      },
      "source": [
        "<a href=\"https://colab.research.google.com/github/RodrigoGuedesDP/Estructuras-de-Datos-y-Algoritmos/blob/main/Graphs/binaryTree.ipynb\" target=\"_parent\"><img src=\"https://colab.research.google.com/assets/colab-badge.svg\" alt=\"Open In Colab\"/></a>"
      ]
    },
    {
      "cell_type": "code",
      "execution_count": null,
      "metadata": {
        "id": "V1QRCmzQKKDY"
      },
      "outputs": [],
      "source": [
        "class TreeNode:\n",
        "  def __init__(self, val=0, left=None, right=None):\n",
        "      self.val = val\n",
        "      self.left = left\n",
        "      self.right = right\n",
        "\n",
        "  def build_tree(lst):\n",
        "    if not lst or lst[0] is None:\n",
        "        return None\n",
        "\n",
        "    root = TreeNode(lst[0])\n",
        "    queue = deque([root])\n",
        "    i = 1\n",
        "    while queue and i < len(lst):\n",
        "        current = queue.popleft()\n",
        "\n",
        "        if i < len(lst) and lst[i] is not None:\n",
        "            current.left = TreeNode(lst[i])\n",
        "            queue.append(current.left)\n",
        "        i += 1\n",
        "        if i < len(lst) and lst[i] is not None:\n",
        "            current.right = TreeNode(lst[i])\n",
        "            queue.append(current.right)\n",
        "        i += 1\n",
        "    return root\n",
        "\n",
        "class Solution:\n",
        "  def convertBST(self, root):\n",
        "    self.total = 0\n",
        "\n",
        "    def traverse(node):\n",
        "        if not node:\n",
        "            return\n",
        "        traverse(node.right)\n",
        "        self.total += node.val\n",
        "        node.val = self.total\n",
        "        traverse(node.left)\n",
        "    traverse(root)\n",
        "    return root\n",
        "\n",
        "solution = Solution()\n",
        "\n",
        "\n",
        "root1 = [4,1,6,0,2,5,7,None,None,None,3,None,None,None,8]\n",
        "#[30,36,21,36,35,26,15,null,null,null,33,null,null,null,8]\n",
        "\n",
        "solution.convertBST(root1)\n",
        "\n",
        "root2 = [0,None,1]\n",
        "\n",
        "solution.convertBST(root2)\n",
        "#Output: [1,null,1]"
      ]
    }
  ]
}