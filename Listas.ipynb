{
  "nbformat": 4,
  "nbformat_minor": 0,
  "metadata": {
    "colab": {
      "provenance": [],
      "authorship_tag": "ABX9TyPIXXeI6BeKhO5sQGnF1mn6",
      "include_colab_link": true
    },
    "kernelspec": {
      "name": "python3",
      "display_name": "Python 3"
    },
    "language_info": {
      "name": "python"
    }
  },
  "cells": [
    {
      "cell_type": "markdown",
      "metadata": {
        "id": "view-in-github",
        "colab_type": "text"
      },
      "source": [
        "<a href=\"https://colab.research.google.com/github/RodrigoGuedesDP/Estructuras-de-Datos-y-Algoritmos/blob/main/Listas.ipynb\" target=\"_parent\"><img src=\"https://colab.research.google.com/assets/colab-badge.svg\" alt=\"Open In Colab\"/></a>"
      ]
    },
    {
      "cell_type": "markdown",
      "source": [
        "Listas enlazadas"
      ],
      "metadata": {
        "id": "-OFInH71VKZk"
      }
    },
    {
      "cell_type": "markdown",
      "source": [
        "Forwart List (simple linked list)"
      ],
      "metadata": {
        "id": "M8LqnFsDVKRr"
      }
    },
    {
      "cell_type": "code",
      "execution_count": null,
      "metadata": {
        "id": "sF6a7hprU1Ca"
      },
      "outputs": [],
      "source": [
        "class Node():\n",
        "  def __init__(self,value, next = None):\n",
        "    self.value = value\n",
        "    self.next = next\n",
        "\n",
        "class ListNode():\n",
        "  def __init__(self,head):\n",
        "    self.head = None\n",
        "\n",
        "  def display(self,head):\n",
        "    temp = head\n",
        "    while temp:\n",
        "      print(temp.value, end = \" ---> \")\n",
        "    print(\"None\")"
      ]
    },
    {
      "cell_type": "code",
      "source": [
        "node1 = Node(6)\n",
        "node2 = Node(2)\n",
        "node3 = Node(9)\n",
        "node4 = Node(0)\n",
        "node5 = Node(3)\n",
        "\n",
        "node1.next = node2\n",
        "node2.next = node3\n",
        "node3.next = node4\n",
        "node4.next = node5\n",
        "\n",
        "forwardlist = ListNode(node1)\n",
        "forwardlist.display(node1)\n"
      ],
      "metadata": {
        "id": "uFXEkLmLVI2Y"
      },
      "execution_count": null,
      "outputs": []
    }
  ]
}