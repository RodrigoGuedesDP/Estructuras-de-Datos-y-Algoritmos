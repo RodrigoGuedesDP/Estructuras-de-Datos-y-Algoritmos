{
  "nbformat": 4,
  "nbformat_minor": 0,
  "metadata": {
    "colab": {
      "provenance": [],
      "authorship_tag": "ABX9TyOB0yNw1v+nkCv2b+vryBAn",
      "include_colab_link": true
    },
    "kernelspec": {
      "name": "python3",
      "display_name": "Python 3"
    },
    "language_info": {
      "name": "python"
    }
  },
  "cells": [
    {
      "cell_type": "markdown",
      "metadata": {
        "id": "view-in-github",
        "colab_type": "text"
      },
      "source": [
        "<a href=\"https://colab.research.google.com/github/RodrigoGuedesDP/Estructuras-de-Datos-y-Algoritmos/blob/main/Listas.ipynb\" target=\"_parent\"><img src=\"https://colab.research.google.com/assets/colab-badge.svg\" alt=\"Open In Colab\"/></a>"
      ]
    },
    {
      "cell_type": "markdown",
      "source": [
        "Listas enlazadas"
      ],
      "metadata": {
        "id": "-OFInH71VKZk"
      }
    },
    {
      "cell_type": "markdown",
      "source": [
        "Forwart List (simple linked list)"
      ],
      "metadata": {
        "id": "M8LqnFsDVKRr"
      }
    },
    {
      "cell_type": "code",
      "source": [
        "class Node():\n",
        "  def __init__(self,value, next = None):\n",
        "    self.value = value\n",
        "    self.next = next\n",
        "\n",
        "class ListNode():\n",
        "  def __init__(self,head):\n",
        "    self.head = head\n",
        "\n",
        "  def display(self):\n",
        "    temp = self.head\n",
        "    while temp:\n",
        "      print(temp.value, end = \" ---> \")\n",
        "      temp = temp.next\n",
        "    print(\"None\")\n",
        "\n",
        "  def size(self):\n",
        "    temp = self.head\n",
        "    count = 0\n",
        "    while temp:\n",
        "      temp = temp.next\n",
        "      count += 1\n",
        "    return count\n",
        "\n",
        "  def __getitem__(self, index):\n",
        "    if index < 0 or index >= self.size():\n",
        "      raise IndexError(\"Indice fuera de rango\")\n",
        "    temp = self.head\n",
        "    for _ in range(index):\n",
        "      temp = temp.next\n",
        "    return temp.value\n",
        "\n",
        "\n"
      ],
      "metadata": {
        "id": "c4EdGgwHpja0"
      },
      "execution_count": 17,
      "outputs": []
    },
    {
      "cell_type": "code",
      "execution_count": 11,
      "metadata": {
        "id": "sF6a7hprU1Ca"
      },
      "outputs": [],
      "source": [
        "class Node():\n",
        "  def __init__(self,value, next = None):\n",
        "    self.value = value\n",
        "    self.next = next\n",
        "\n",
        "class ListNode():\n",
        "  def __init__(self,head):\n",
        "    self.head = head\n",
        "\n",
        "  def display(self):\n",
        "    temp = self.head\n",
        "    while temp:\n",
        "      print(temp.value, end = \" ---> \")\n",
        "      temp = temp.next\n",
        "    print(\"None\")"
      ]
    },
    {
      "cell_type": "markdown",
      "source": [
        "mostrar"
      ],
      "metadata": {
        "id": "cAeEqrMjWKpB"
      }
    },
    {
      "cell_type": "code",
      "source": [
        "node1 = Node(6)\n",
        "node2 = Node(2)\n",
        "node3 = Node(9)\n",
        "node4 = Node(0)\n",
        "node5 = Node(3)\n",
        "\n",
        "\n",
        "node1.next = node2\n",
        "node2.next = node3\n",
        "node3.next = node4\n",
        "node4.next = node5\n",
        "\n",
        "forwardlist = ListNode(node1)\n",
        "forwardlist.display()\n"
      ],
      "metadata": {
        "id": "uFXEkLmLVI2Y",
        "colab": {
          "base_uri": "https://localhost:8080/"
        },
        "outputId": "015049fd-27e0-48f5-f509-a12250a9546b"
      },
      "execution_count": 12,
      "outputs": [
        {
          "output_type": "stream",
          "name": "stdout",
          "text": [
            "6 ---> 2 ---> 9 ---> 0 ---> 3 ---> None\n"
          ]
        }
      ]
    },
    {
      "cell_type": "markdown",
      "source": [
        "forward list push front 5"
      ],
      "metadata": {
        "id": "nhA2WyD-WL8_"
      }
    },
    {
      "cell_type": "code",
      "source": [
        "node0 = Node(5)\n",
        "node0.next = node1\n",
        "newlist = ListNode(head = node0)\n",
        "newlist.display()"
      ],
      "metadata": {
        "colab": {
          "base_uri": "https://localhost:8080/"
        },
        "id": "uJ9-Har0WPGA",
        "outputId": "2ca5f1a4-52c2-4351-bbb7-42addb102c8f"
      },
      "execution_count": 13,
      "outputs": [
        {
          "output_type": "stream",
          "name": "stdout",
          "text": [
            "5 ---> 6 ---> 2 ---> 9 ---> 0 ---> 3 ---> None\n"
          ]
        }
      ]
    },
    {
      "cell_type": "markdown",
      "source": [
        "ForwardList push back 5"
      ],
      "metadata": {
        "id": "tBrA-j9UXZyp"
      }
    },
    {
      "cell_type": "code",
      "source": [
        "nodelast = Node(5)\n",
        "list2 = ListNode(node1)\n",
        "temp = list2.head\n",
        "while temp.next:\n",
        "  temp = temp.next\n",
        "temp.next = nodelast\n",
        "\n",
        "list2.display()\n",
        "\n",
        "\n"
      ],
      "metadata": {
        "colab": {
          "base_uri": "https://localhost:8080/"
        },
        "id": "a2xlmuFRXXY0",
        "outputId": "5d3ffec0-79e0-4685-a10e-c641dc2037b7"
      },
      "execution_count": 20,
      "outputs": [
        {
          "output_type": "stream",
          "name": "stdout",
          "text": [
            "6 ---> 2 ---> 9 ---> 0 ---> 3 ---> 5 ---> None\n"
          ]
        }
      ]
    },
    {
      "cell_type": "markdown",
      "source": [
        "forwardList (pop front)"
      ],
      "metadata": {
        "id": "894p2GD4ayoo"
      }
    },
    {
      "cell_type": "code",
      "source": [
        "#de newlist quitarle el 5.\n",
        "node0 = Node(5)\n",
        "node1 = Node(6)\n",
        "node2 = Node(2)\n",
        "node3 = Node(9)\n",
        "node4 = Node(0)\n",
        "node5 = Node(3)\n",
        "\n",
        "node0.next = node1\n",
        "node1.next = node2\n",
        "node2.next = node3\n",
        "node3.next = node4\n",
        "node4.next = node5\n",
        "\n",
        "\n",
        "newlist = ListNode(node0)\n",
        "\n",
        "temp = newlist.head\n",
        "newlist.head = temp.next\n",
        "del temp\n",
        "newlist.display()\n",
        "\n",
        "\n"
      ],
      "metadata": {
        "colab": {
          "base_uri": "https://localhost:8080/"
        },
        "id": "pa_lT85Ba17f",
        "outputId": "a955808b-ce6a-4277-8afc-29d4b01e00c2"
      },
      "execution_count": 24,
      "outputs": [
        {
          "output_type": "stream",
          "name": "stdout",
          "text": [
            "6 ---> 2 ---> 9 ---> 0 ---> 3 ---> None\n"
          ]
        }
      ]
    },
    {
      "cell_type": "markdown",
      "source": [
        "pop back"
      ],
      "metadata": {
        "id": "7NWxV78oc4Wr"
      }
    },
    {
      "cell_type": "code",
      "source": [
        "#quitarle el ultimo valor\n",
        "node0 = Node(5)\n",
        "node1 = Node(6)\n",
        "node2 = Node(2)\n",
        "node3 = Node(9)\n",
        "node4 = Node(0)\n",
        "node5 = Node(3)\n",
        "\n",
        "node0.next = node1\n",
        "node1.next = node2\n",
        "node2.next = node3\n",
        "node3.next = node4\n",
        "node4.next = node5\n",
        "\n",
        "\n",
        "newlist = ListNode(node0)\n",
        "newlist.display()\n",
        "\n",
        "head = newlist.head\n",
        "if head.next is None:\n",
        "  del head\n",
        "else:\n",
        "  temp = head\n",
        "  while temp.next.next:\n",
        "    temp = temp.next\n",
        "  del temp.next\n",
        "  temp.next = None\n",
        "\n",
        "newlist.display()"
      ],
      "metadata": {
        "colab": {
          "base_uri": "https://localhost:8080/"
        },
        "id": "RqncDrxYblzO",
        "outputId": "05c049d6-0d54-494d-c82c-a28ffc45b30a"
      },
      "execution_count": 28,
      "outputs": [
        {
          "output_type": "stream",
          "name": "stdout",
          "text": [
            "5 ---> 6 ---> 2 ---> 9 ---> 0 ---> 3 ---> None\n",
            "5 ---> 6 ---> 2 ---> 9 ---> 0 ---> None\n"
          ]
        }
      ]
    },
    {
      "cell_type": "markdown",
      "source": [
        "Forward List (insert 5 at location 3)"
      ],
      "metadata": {
        "id": "EKcZem-Hgy73"
      }
    },
    {
      "cell_type": "code",
      "source": [
        "\n",
        "node1 = Node(6)\n",
        "node2 = Node(2)\n",
        "node3 = Node(9)\n",
        "node4 = Node(0)\n",
        "node5 = Node(3)\n",
        "\n",
        "node1.next = node2\n",
        "node2.next = node3\n",
        "node3.next = node4\n",
        "node4.next = node5\n",
        "\n",
        "newnode = Node(5)\n",
        "\n",
        "list3 = ListNode(head= node1)\n",
        "location = 0\n",
        "pos = 3\n",
        "head = list3.head\n",
        "temp = head\n",
        "while location < pos -1:\n",
        "  temp = temp.next\n",
        "  location += 1\n",
        "newnode.next = temp.next\n",
        "temp.next = newnode\n",
        "\n",
        "list3.display()\n",
        "\n",
        "\n",
        "\n"
      ],
      "metadata": {
        "colab": {
          "base_uri": "https://localhost:8080/"
        },
        "id": "BWVJCmgwgyBN",
        "outputId": "f0ef3b66-4aa0-48c5-ddfe-72da1878a381"
      },
      "execution_count": 29,
      "outputs": [
        {
          "output_type": "stream",
          "name": "stdout",
          "text": [
            "6 ---> 2 ---> 9 ---> 5 ---> 0 ---> 3 ---> None\n"
          ]
        }
      ]
    },
    {
      "cell_type": "markdown",
      "source": [
        "clear ForwardList"
      ],
      "metadata": {
        "id": "MUFnG8-sjUAO"
      }
    },
    {
      "cell_type": "code",
      "source": [
        "node1 = Node(6)\n",
        "node2 = Node(2)\n",
        "node3 = Node(9)\n",
        "node4 = Node(0)\n",
        "node5 = Node(3)\n",
        "\n",
        "node1.next = node2\n",
        "node2.next = node3\n",
        "node3.next = node4\n",
        "node4.next = node5\n",
        "\n",
        "list4 = ListNode(head = node1)\n",
        "head = list4.head\n",
        "\n",
        "while list4.head:\n",
        "  temp = list4.head\n",
        "  list4.head = list4.head.next\n",
        "  del temp\n",
        "\n",
        "list4.display()\n"
      ],
      "metadata": {
        "colab": {
          "base_uri": "https://localhost:8080/"
        },
        "id": "2T8vFj3PjTRc",
        "outputId": "ca63811d-c9a4-44ee-85d7-3929f0a1e313"
      },
      "execution_count": 34,
      "outputs": [
        {
          "output_type": "stream",
          "name": "stdout",
          "text": [
            "None\n"
          ]
        }
      ]
    },
    {
      "cell_type": "markdown",
      "source": [
        "FUNCIONES"
      ],
      "metadata": {
        "id": "dXZTLaR8eNur"
      }
    },
    {
      "cell_type": "code",
      "source": [
        "node1 = Node(6)\n",
        "node2 = Node(2)\n",
        "node3 = Node(9)\n",
        "node4 = Node(0)\n",
        "node5 = Node(3)\n",
        "\n",
        "node1.next = node2\n",
        "node2.next = node3\n",
        "node3.next = node4\n",
        "node4.next = node5\n",
        "list4 = ListNode(head = node1)\n",
        "\n",
        "print(list4[4])\n",
        ""
      ],
      "metadata": {
        "colab": {
          "base_uri": "https://localhost:8080/"
        },
        "id": "IXBHx3gUePiG",
        "outputId": "53eb9c38-340f-4e8f-9981-a7aa68ce68b4"
      },
      "execution_count": 19,
      "outputs": [
        {
          "output_type": "stream",
          "name": "stdout",
          "text": [
            "3\n"
          ]
        }
      ]
    }
  ]
}