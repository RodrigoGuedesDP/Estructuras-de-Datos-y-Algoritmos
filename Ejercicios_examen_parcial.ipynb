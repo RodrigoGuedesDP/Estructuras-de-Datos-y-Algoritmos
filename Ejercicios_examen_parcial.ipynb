{
  "nbformat": 4,
  "nbformat_minor": 0,
  "metadata": {
    "colab": {
      "provenance": [],
      "authorship_tag": "ABX9TyNqrDp5GwV4SQIw+Mf4qpiR",
      "include_colab_link": true
    },
    "kernelspec": {
      "name": "python3",
      "display_name": "Python 3"
    },
    "language_info": {
      "name": "python"
    }
  },
  "cells": [
    {
      "cell_type": "markdown",
      "metadata": {
        "id": "view-in-github",
        "colab_type": "text"
      },
      "source": [
        "<a href=\"https://colab.research.google.com/github/RodrigoGuedesDP/Estructuras-de-Datos-y-Algoritmos/blob/main/Ejercicios_examen_parcial.ipynb\" target=\"_parent\"><img src=\"https://colab.research.google.com/assets/colab-badge.svg\" alt=\"Open In Colab\"/></a>"
      ]
    },
    {
      "cell_type": "markdown",
      "source": [
        "###Listas enlazadas"
      ],
      "metadata": {
        "id": "N-11Yv_W0sFe"
      }
    },
    {
      "cell_type": "code",
      "source": [
        "class ListNode:\n",
        "  def __init__(self,val = 0, next = None):\n",
        "    self.val = val\n",
        "    self.next = next\n",
        "\n",
        "node1 = ListNode(1)\n",
        "node2 = ListNode(2)\n",
        "node3 = ListNode(3)\n",
        "\n",
        "node1.next = node2\n",
        "node2.next = node3\n",
        "\n",
        "\n",
        "actual = node1\n",
        "\n",
        "while actual:\n",
        "  print(actual.val)\n",
        "  actual = actual.next\n"
      ],
      "metadata": {
        "colab": {
          "base_uri": "https://localhost:8080/"
        },
        "id": "BT7w6PEv0qQj",
        "outputId": "5ebbd966-fc3a-49bc-b061-97cc948bdd76"
      },
      "execution_count": 2,
      "outputs": [
        {
          "output_type": "stream",
          "name": "stdout",
          "text": [
            "1\n",
            "2\n",
            "3\n"
          ]
        }
      ]
    },
    {
      "cell_type": "markdown",
      "source": [
        "### 21. Merge Two Sorted Lists\n",
        "You are given the heads of two sorted linked lists list1 and list2.\n",
        "\n",
        "Merge the two lists into one sorted list. The list should be made by splicing together the nodes of the first two lists.\n",
        "\n",
        "Return the head of the merged linked list."
      ],
      "metadata": {
        "id": "023QFLod1849"
      }
    },
    {
      "cell_type": "code",
      "execution_count": 6,
      "metadata": {
        "id": "_YwGM9biziLu"
      },
      "outputs": [],
      "source": [
        "class ListNode:\n",
        "  def __init__(self, val=0, next=None):\n",
        "     self.val = val\n",
        "     self.next = next\n",
        "\n",
        "class Solution:\n",
        "  def mergeTwoLists(self, list1, list2):\n",
        "    if not list1:\n",
        "      return list2\n",
        "    if not list2:\n",
        "      return list1\n",
        "\n",
        "    if list1.val >= list2.val:\n",
        "      head = list1\n",
        "      list1 = list1.next\n",
        "    else:\n",
        "      head = list2\n",
        "      list2 = list2.next\n",
        "    # para crear la nueva lista y devolver head\n",
        "    current = head\n",
        "\n",
        "    while list1 and list2:\n",
        "      if list1.val <= list2.val:\n",
        "        current.next = list1\n",
        "        list1 = list1.next\n",
        "      else:\n",
        "        current.next = list2\n",
        "        list2 = list2.next\n",
        "      current = current.next  # Avanzamos en la lista fusionada\n",
        "\n",
        "      if list1:\n",
        "          current.next = list1\n",
        "      if list2:\n",
        "          current.next = list2\n",
        "      return head\n",
        "\n",
        "\n",
        "\n",
        "solution = Solution(list1,list2)\n",
        "\n",
        "\n",
        "\n"
      ]
    },
    {
      "cell_type": "code",
      "source": [
        "list1 = [1,2,4], list2 = [1,3,4]\n",
        "#Output: [1,1,2,3,4,4]\n",
        "solution.mergeTwoLists(list1,list2)"
      ],
      "metadata": {
        "colab": {
          "base_uri": "https://localhost:8080/"
        },
        "id": "kyD4cWLn95X0",
        "outputId": "c00e7928-1aca-4d36-9ae9-2f62fe53e489"
      },
      "execution_count": 5,
      "outputs": [
        {
          "output_type": "stream",
          "name": "stdout",
          "text": [
            "[2, 3, 4]\n"
          ]
        }
      ]
    },
    {
      "cell_type": "code",
      "source": [
        "list1 = [], list2 = []\n",
        "#Output: []\n",
        "solution.mergeTwoLists(list1,list2)"
      ],
      "metadata": {
        "id": "MEG9wkIxrnsw"
      },
      "execution_count": null,
      "outputs": []
    },
    {
      "cell_type": "code",
      "source": [
        "list1 = [], list2 = [0]\n",
        "#Output: [0]\n",
        "solution.mergeTwoLists(list1,list2)"
      ],
      "metadata": {
        "id": "YXVwR0H0rnaR"
      },
      "execution_count": null,
      "outputs": []
    },
    {
      "cell_type": "code",
      "source": [
        "a = 7\n",
        "b = 8\n",
        "c = max(a,b)\n",
        "print(c)"
      ],
      "metadata": {
        "colab": {
          "base_uri": "https://localhost:8080/"
        },
        "id": "4FrlPjqK-Y7v",
        "outputId": "ba7a2dfb-32e3-496d-a69d-3eef3bb9cd4f"
      },
      "execution_count": 3,
      "outputs": [
        {
          "output_type": "stream",
          "name": "stdout",
          "text": [
            "8\n"
          ]
        }
      ]
    },
    {
      "cell_type": "code",
      "source": [
        "# Definition for singly-linked list.\n",
        "# class ListNode:\n",
        "#     def __init__(self, val=0, next=None):\n",
        "#         self.val = val\n",
        "#         self.next = next\n",
        "class Solution:\n",
        "  def middleNode(self, head):\n",
        "    count = 0\n",
        "    current = head\n",
        "    while current:\n",
        "      current = current.next\n",
        "      count += 1\n",
        "    mid = count //2\n",
        "    middle = head\n",
        "    for x in range(0, mid):\n",
        "      middle = middle.next\n",
        "    return middle\n",
        "\n",
        "\n",
        "\n",
        "\n",
        ""
      ],
      "metadata": {
        "id": "dH8ZxR6CoD1g"
      },
      "execution_count": 1,
      "outputs": []
    },
    {
      "cell_type": "code",
      "source": [
        "3//2"
      ],
      "metadata": {
        "colab": {
          "base_uri": "https://localhost:8080/"
        },
        "id": "5YMeYe2guP1F",
        "outputId": "25b52172-da6e-40fe-b6c6-ae2fb05b188a"
      },
      "execution_count": 2,
      "outputs": [
        {
          "output_type": "execute_result",
          "data": {
            "text/plain": [
              "1"
            ]
          },
          "metadata": {},
          "execution_count": 2
        }
      ]
    },
    {
      "cell_type": "code",
      "source": [
        "# Definition for singly-linked list.\n",
        "# class ListNode:\n",
        "#     def __init__(self, val=0, next=None):\n",
        "#         self.val = val\n",
        "#         self.next = next\n",
        "class Solution:\n",
        "    def deleteDuplicates(self, head: Optional[ListNode]) -> Optional[ListNode]:\n",
        "        current = head\n",
        "        while current:\n",
        "            if current == current.netx:\n",
        "                current = current.next.next\n"
      ],
      "metadata": {
        "id": "HCVHc0-m1bX0"
      },
      "execution_count": null,
      "outputs": []
    }
  ]
}