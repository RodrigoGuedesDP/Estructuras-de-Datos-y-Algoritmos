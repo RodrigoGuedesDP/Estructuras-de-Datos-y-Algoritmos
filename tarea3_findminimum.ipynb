{
  "nbformat": 4,
  "nbformat_minor": 0,
  "metadata": {
    "colab": {
      "provenance": [],
      "toc_visible": true,
      "authorship_tag": "ABX9TyP+6iv+Hk53YY6vIDr3cLea",
      "include_colab_link": true
    },
    "kernelspec": {
      "name": "python3",
      "display_name": "Python 3"
    },
    "language_info": {
      "name": "python"
    }
  },
  "cells": [
    {
      "cell_type": "markdown",
      "metadata": {
        "id": "view-in-github",
        "colab_type": "text"
      },
      "source": [
        "<a href=\"https://colab.research.google.com/github/RodrigoGuedesDP/Estructuras-de-Datos-y-Algoritmos/blob/main/tarea3_findminimum.ipynb\" target=\"_parent\"><img src=\"https://colab.research.google.com/assets/colab-badge.svg\" alt=\"Open In Colab\"/></a>"
      ]
    },
    {
      "cell_type": "markdown",
      "source": [
        "Given an integer array nums, return all the triplets [nums[i], nums[j], nums[k]] such that i != j, i != k, and j != k, and nums[i] + nums[j] + nums[k] == 0.\n",
        "\n",
        "Notice that the solution set must not contain duplicate triplets."
      ],
      "metadata": {
        "id": "c9RAKncaiQvp"
      }
    },
    {
      "cell_type": "markdown",
      "source": [
        "153. Find Minimum in Rotated Sorted Array\n",
        "Medium\n",
        "Topics\n",
        "Companies\n",
        "Hint\n",
        "Suppose an array of length n sorted in ascending order is rotated between 1 and n times. For example, the array nums = [0,1,2,4,5,6,7] might become:\n",
        "\n",
        "[4,5,6,7,0,1,2] if it was rotated 4 times.\n",
        "[0,1,2,4,5,6,7] if it was rotated 7 times.\n",
        "Notice that rotating an array [a[0], a[1], a[2], ..., a[n-1]] 1 time results in the array [a[n-1], a[0], a[1], a[2], ..., a[n-2]].\n",
        "\n",
        "Given the sorted rotated array nums of unique elements, return the minimum element of this array.\n",
        "\n",
        "You must write an algorithm that runs in O(log n) time."
      ],
      "metadata": {
        "id": "xbzK47VM7rJ_"
      }
    },
    {
      "cell_type": "code",
      "source": [
        "class Solution:\n",
        "    def findMin(self, nums):\n",
        "        left = 0\n",
        "        right = len(nums) - 1\n",
        "        while left < right:\n",
        "            mid = (left + right) // 2\n",
        "\n",
        "            if nums[mid] > nums[right]:\n",
        "                left = mid + 1\n",
        "            else:\n",
        "                right = mid\n",
        "        return nums[left]\n"
      ],
      "metadata": {
        "id": "cUnq0IZbh23p"
      },
      "execution_count": 23,
      "outputs": []
    }
  ]
}