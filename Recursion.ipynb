{
  "nbformat": 4,
  "nbformat_minor": 0,
  "metadata": {
    "colab": {
      "provenance": [],
      "authorship_tag": "ABX9TyOKO+YGe4lUkBzMp3+M0sGv",
      "include_colab_link": true
    },
    "kernelspec": {
      "name": "python3",
      "display_name": "Python 3"
    },
    "language_info": {
      "name": "python"
    }
  },
  "cells": [
    {
      "cell_type": "markdown",
      "metadata": {
        "id": "view-in-github",
        "colab_type": "text"
      },
      "source": [
        "<a href=\"https://colab.research.google.com/github/RodrigoGuedesDP/Estructuras-de-Datos-y-Algoritmos/blob/main/Recursion.ipynb\" target=\"_parent\"><img src=\"https://colab.research.google.com/assets/colab-badge.svg\" alt=\"Open In Colab\"/></a>"
      ]
    },
    {
      "cell_type": "markdown",
      "source": [
        "###Ejemplos de recursion basicos\n"
      ],
      "metadata": {
        "id": "uf6DWGUKzNOn"
      }
    },
    {
      "cell_type": "code",
      "execution_count": null,
      "metadata": {
        "id": "4fDfTvHazB3x"
      },
      "outputs": [],
      "source": [
        "# Calculo de factorial con recursio\n",
        "\n",
        "def factorial(n):\n",
        "  #caso base. Factorial de 1! = 1\n",
        "  if n == 0:\n",
        "    return 1\n",
        "  n= n *factorial(n-1)\n",
        "  return n\n",
        "\n",
        "factorial(4)"
      ]
    },
    {
      "cell_type": "code",
      "source": [
        "#suma de los primeros n numeros, desde 1 hasta n\n",
        "\n",
        "def suma_numeros(n):\n",
        "  #caso base:\n",
        "  if n == 0:\n",
        "    return 0\n",
        "  return n + suma_numeros(n-1)\n",
        "\n",
        "suma_numeros(5)\n"
      ],
      "metadata": {
        "id": "XTOYUVh9zTT9"
      },
      "execution_count": null,
      "outputs": []
    },
    {
      "cell_type": "code",
      "source": [
        "#fibonacci\n",
        "def fibonacci(n):\n",
        "  # siendo n la posicion del numero en la secuencia, comenzando en 0.\n",
        "  #hay 2 casos bases\n",
        "  if n == 0:\n",
        "    return 0\n",
        "  if n == 1:\n",
        "    return 1\n",
        "  return fibonacci(n-1) + fibonacci(n-2)\n",
        "\n",
        "fibonacci(10)"
      ],
      "metadata": {
        "id": "Q_onVExfzU65"
      },
      "execution_count": null,
      "outputs": []
    },
    {
      "cell_type": "code",
      "source": [
        "# suma de los digitos de un numero\n",
        "\n",
        "n = 1234\n",
        "def suma_digitos(n):\n",
        "  if n < 10:\n",
        "    return n\n",
        "  return n % 10 + suma_digitos(n//10)\n",
        "suma_digitos(n)"
      ],
      "metadata": {
        "id": "yaZLymw3zWob",
        "colab": {
          "base_uri": "https://localhost:8080/"
        },
        "outputId": "e947cfb0-f91f-4c96-d503-d9f34884b415"
      },
      "execution_count": null,
      "outputs": [
        {
          "output_type": "execute_result",
          "data": {
            "text/plain": [
              "10"
            ]
          },
          "metadata": {},
          "execution_count": 11
        }
      ]
    },
    {
      "cell_type": "code",
      "source": [
        "#potencia con recursion sin usar **\n",
        "def potencia(a,b):\n",
        "  if b == 0:\n",
        "    return 1\n",
        "  return a * potencia(a, b-1)\n",
        "potencia(3,4)"
      ],
      "metadata": {
        "id": "xH2myNxRzYn_",
        "colab": {
          "base_uri": "https://localhost:8080/"
        },
        "outputId": "e5480fa5-5d26-48ba-b7e2-d9c13b6378fa"
      },
      "execution_count": null,
      "outputs": [
        {
          "output_type": "execute_result",
          "data": {
            "text/plain": [
              "81"
            ]
          },
          "metadata": {},
          "execution_count": 2
        }
      ]
    },
    {
      "cell_type": "markdown",
      "source": [
        "solucion optimizada"
      ],
      "metadata": {
        "id": "xJPwwSp6KhXW"
      }
    },
    {
      "cell_type": "code",
      "source": [
        "def potencia(a, b):\n",
        "    if b == 0:  # Caso base\n",
        "        return 1\n",
        "    half = potencia(a, b // 2)\n",
        "    if b % 2 == 0:  # Si 'b' es par\n",
        "        return half * half\n",
        "    else:  # Si 'b' es impar\n",
        "        return half * half * a\n",
        "\n",
        "print(potencia(3, 4))  # Output: 81\n"
      ],
      "metadata": {
        "id": "eE7qmYHTKjji"
      },
      "execution_count": null,
      "outputs": []
    },
    {
      "cell_type": "code",
      "source": [
        "# verificar si una palabra es un palindromo\n",
        "# funcion auxiliar\n",
        "def quitar_caracter(frase):\n",
        "  n = len(frase)\n",
        "  if n <2:\n",
        "    return frase\n",
        "  frase_cortada = \"\"\n",
        "  for x in range(1,n-1):\n",
        "    frase_cortada += frase[x]\n",
        "  return frase_cortada\n",
        "\n",
        "def palindromo(frase):\n",
        "  # el caso base deberia ser un string con 1 solo caracter\n",
        "  n= len(frase)\n",
        "  #el caso base es un string vacio o de 1 caracter.\n",
        "  if n == 0:\n",
        "    return True\n",
        "  if n == 1:\n",
        "    return True\n",
        "  if n > 1:\n",
        "    if frase[0] != frase[n-1]:\n",
        "      return False\n",
        "    else:\n",
        "      return palindromo(quitar_caracter(frase))\n",
        "\n",
        "# ejemplo con \"reconocer\"\n",
        "frase = \"reconocer\"\n",
        "print(palindromo(frase))"
      ],
      "metadata": {
        "id": "dzBrE296zaDB",
        "colab": {
          "base_uri": "https://localhost:8080/"
        },
        "outputId": "49788c2e-5716-4a7b-eda6-3f6f09e03512"
      },
      "execution_count": null,
      "outputs": [
        {
          "output_type": "stream",
          "name": "stdout",
          "text": [
            "True\n"
          ]
        }
      ]
    },
    {
      "cell_type": "markdown",
      "source": [
        "solucion simplificada"
      ],
      "metadata": {
        "id": "yTzdDgnFRArZ"
      }
    },
    {
      "cell_type": "code",
      "source": [
        "def palindromo(frase):\n",
        "  if len(frase) <= 1:\n",
        "    return True\n",
        "  if frase[0] != frase[-1]:\n",
        "    return False\n",
        "  return palindromo(frase[1:-1])\n",
        "palindromo(\"reconocer\")"
      ],
      "metadata": {
        "colab": {
          "base_uri": "https://localhost:8080/"
        },
        "id": "ItesOFAHRCd9",
        "outputId": "58cf78e0-947d-433e-8fc8-c4002c71144c"
      },
      "execution_count": null,
      "outputs": [
        {
          "output_type": "execute_result",
          "data": {
            "text/plain": [
              "False"
            ]
          },
          "metadata": {},
          "execution_count": 32
        }
      ]
    },
    {
      "cell_type": "markdown",
      "source": [
        "### Ejercicios intermedio-dificil"
      ],
      "metadata": {
        "id": "PtdLuh6sShL7"
      }
    },
    {
      "cell_type": "markdown",
      "source": [
        "#### 1. Generar subconjuntos de un conjunto\n",
        "Escribe una función recursiva que tome un conjunto (representado como una lista) y devuelva todos sus subconjuntos posibles."
      ],
      "metadata": {
        "id": "p6CI8neCD8D4"
      }
    },
    {
      "cell_type": "code",
      "source": [
        "entrada = [1,2,3,4]\n",
        "def subconjuntos(lista):\n",
        "  #caso base\n",
        "  if len(lista) == 0:\n",
        "    return lista\n",
        "  else:\n",
        "    ultimo = lista.pop()\n",
        "    return [[x] + [ultimo] for x in lista] + subconjuntos(lista)\n",
        "\n",
        "subconjuntos([1,2])\n",
        "\n",
        "\n",
        "\n",
        "\n",
        "\n"
      ],
      "metadata": {
        "id": "l-HeZ6V6Sp0p",
        "colab": {
          "base_uri": "https://localhost:8080/"
        },
        "outputId": "dc9dadb6-6082-4869-d51f-02d8b18cafc4"
      },
      "execution_count": 15,
      "outputs": [
        {
          "output_type": "execute_result",
          "data": {
            "text/plain": [
              "[[1, 2]]"
            ]
          },
          "metadata": {},
          "execution_count": 15
        }
      ]
    },
    {
      "cell_type": "code",
      "source": [
        "entrada = [1,2,3,4]\n",
        "def subconjuntos(lista):\n",
        "  #caso base\n",
        "  if len(lista) == 0:\n",
        "    return lista\n",
        "  else:\n",
        "    ultimo = lista.pop()\n",
        "    nuevo = [[x] + [ultimo] for x in lista]\n",
        "    return nuevo + [subconjuntos(lista)]\n",
        "\n",
        "subconjuntos([1,2,3])\n",
        "\n"
      ],
      "metadata": {
        "id": "-fyVAujtf_gU",
        "outputId": "a5532148-23a2-4844-8508-ba4742e7f861",
        "colab": {
          "base_uri": "https://localhost:8080/"
        }
      },
      "execution_count": 23,
      "outputs": [
        {
          "output_type": "execute_result",
          "data": {
            "text/plain": [
              "[[1, 3], [2, 3], [[1, 2], [[]]]]"
            ]
          },
          "metadata": {},
          "execution_count": 23
        }
      ]
    },
    {
      "cell_type": "code",
      "source": [
        "lista = [1]\n",
        "ultimo = lista.pop()\n",
        "\n",
        "print([lista+[ultimo]])"
      ],
      "metadata": {
        "id": "rCAjni_bNvYx",
        "outputId": "2e205945-07e4-451c-b462-26a2ae14f731",
        "colab": {
          "base_uri": "https://localhost:8080/"
        }
      },
      "execution_count": 14,
      "outputs": [
        {
          "output_type": "stream",
          "name": "stdout",
          "text": [
            "[[1]]\n"
          ]
        }
      ]
    },
    {
      "cell_type": "code",
      "source": [
        "\n",
        "entrada = [[], [1]]\n",
        "nuevo = 3\n",
        "# Generar una nueva lista sin modificar las sublistas originales\n",
        "resultado = entrada + [x + [nuevo] for x in entrada]\n",
        "print(resultado)"
      ],
      "metadata": {
        "id": "hrcPOpkmFh3s",
        "outputId": "af45dfc2-0163-462b-8350-5bb7b4b7539c",
        "colab": {
          "base_uri": "https://localhost:8080/"
        }
      },
      "execution_count": null,
      "outputs": [
        {
          "output_type": "stream",
          "name": "stdout",
          "text": [
            "[[], [1], [3], [1, 3]]\n"
          ]
        }
      ]
    },
    {
      "cell_type": "code",
      "source": [
        "entrada = [[],[1]]\n",
        "nuevo = [[2]]\n",
        "entrada += nuevo\n",
        "print(entrada)"
      ],
      "metadata": {
        "colab": {
          "base_uri": "https://localhost:8080/"
        },
        "id": "Utu5Ey5kWKN4",
        "outputId": "cf2cceb3-e88d-4816-bcf2-fa1d00665d11"
      },
      "execution_count": null,
      "outputs": [
        {
          "output_type": "stream",
          "name": "stdout",
          "text": [
            "[[], [1], [2]]\n"
          ]
        }
      ]
    },
    {
      "cell_type": "markdown",
      "source": [
        "\n",
        "#### 2. Resolver la Torre de Hanói\n",
        "Implementa la solución recursiva al problema clásico de la Torre de Hanói, en el que debes mover\n",
        "𝑛\n",
        "n discos de una torre\n",
        "𝐴\n",
        "A a una torre\n",
        "𝐶\n",
        "C, utilizando una torre intermedia\n",
        "𝐵\n",
        "B. Tu función debe imprimir los pasos necesarios para resolver el problema."
      ],
      "metadata": {
        "id": "-V3RRDu0TJNT"
      }
    },
    {
      "cell_type": "code",
      "source": [
        "def torre_hanoi(n,lista = [\"A\", \"B\", \"C\"]):\n",
        "  #caso base\n",
        "  if n == 1:\n",
        "    inicio = lista[0]\n",
        "    auxiliar = lista[1]\n",
        "    destino = lista[2]\n",
        "    print(f\"Mueve disco de {inicio} a {destino}\")\n",
        "  if n >1:\n",
        "    torre_hanoi(n-1,lista = [lista[0], lista[2], lista[1]])\n",
        "    torre_hanoi(1,lista = [lista[0], lista[1], lista[2]])\n",
        "    torre_hanoi(n-1,lista = [lista[1], lista[0], lista[2]])\n",
        "\n",
        "torre_hanoi(3,lista = [\"A\", \"B\", \"C\"])\n",
        "\n",
        "\n",
        "\n",
        "\n",
        "\n"
      ],
      "metadata": {
        "id": "a4WNCNZ_y_tu",
        "colab": {
          "base_uri": "https://localhost:8080/"
        },
        "outputId": "4bf5be40-ddfb-4aac-b774-b8d7cb782bf2"
      },
      "execution_count": null,
      "outputs": [
        {
          "output_type": "stream",
          "name": "stdout",
          "text": [
            "Mueve disco de A a C\n",
            "Mueve disco de A a B\n",
            "Mueve disco de C a B\n",
            "Mueve disco de A a C\n",
            "Mueve disco de B a A\n",
            "Mueve disco de B a C\n",
            "Mueve disco de A a C\n"
          ]
        }
      ]
    },
    {
      "cell_type": "markdown",
      "source": [
        "#### 3. Permutaciones de una cadena\n",
        "Escribe una función recursiva que genere todas las permutaciones posibles de una cadena de texto."
      ],
      "metadata": {
        "id": "jI_xYG0STN7_"
      }
    },
    {
      "cell_type": "code",
      "source": [
        "def permutacion(texto):\n",
        "  if len(texto) <= 1:\n",
        "    return [texto]\n",
        "  else:\n"
      ],
      "metadata": {
        "id": "IBLwvWUvTS5e"
      },
      "execution_count": null,
      "outputs": []
    },
    {
      "cell_type": "code",
      "source": [
        "len(\"texto\")"
      ],
      "metadata": {
        "id": "md5T57RD5563",
        "outputId": "8302c2df-57df-461f-a43c-51f63c99a081",
        "colab": {
          "base_uri": "https://localhost:8080/"
        }
      },
      "execution_count": null,
      "outputs": [
        {
          "output_type": "execute_result",
          "data": {
            "text/plain": [
              "5"
            ]
          },
          "metadata": {},
          "execution_count": 19
        }
      ]
    },
    {
      "cell_type": "markdown",
      "source": [
        "#### 4. Resolver un laberinto\n",
        "Dado un laberinto representado como una matriz de\n",
        "𝑛\n",
        "×\n",
        "𝑚\n",
        "n×m, donde:\n",
        "\n",
        "0\n",
        "0: Celda bloqueada.\n",
        "1\n",
        "1: Celda transitable.\n",
        "Escribe una función recursiva que encuentre un camino desde la esquina superior izquierda\n",
        "(\n",
        "0\n",
        ",\n",
        "0\n",
        ")\n",
        "(0,0) hasta la esquina inferior derecha\n",
        "(\n",
        "𝑛\n",
        "−\n",
        "1\n",
        ",\n",
        "𝑚\n",
        "−\n",
        "1\n",
        ")\n",
        "(n−1,m−1). Tu función debe devolver el camino en forma de una lista de coordenadas."
      ],
      "metadata": {
        "id": "RKSgKiZlTTYR"
      }
    },
    {
      "cell_type": "code",
      "source": [],
      "metadata": {
        "id": "oo8NsxpyTYTm"
      },
      "execution_count": null,
      "outputs": []
    }
  ]
}