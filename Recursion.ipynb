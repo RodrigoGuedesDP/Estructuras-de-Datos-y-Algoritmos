{
  "nbformat": 4,
  "nbformat_minor": 0,
  "metadata": {
    "colab": {
      "provenance": [],
      "authorship_tag": "ABX9TyMLHF4yX4+ssQXQVUmusrPg",
      "include_colab_link": true
    },
    "kernelspec": {
      "name": "python3",
      "display_name": "Python 3"
    },
    "language_info": {
      "name": "python"
    }
  },
  "cells": [
    {
      "cell_type": "markdown",
      "metadata": {
        "id": "view-in-github",
        "colab_type": "text"
      },
      "source": [
        "<a href=\"https://colab.research.google.com/github/RodrigoGuedesDP/Estructuras-de-Datos-y-Algoritmos/blob/main/Recursion.ipynb\" target=\"_parent\"><img src=\"https://colab.research.google.com/assets/colab-badge.svg\" alt=\"Open In Colab\"/></a>"
      ]
    },
    {
      "cell_type": "markdown",
      "source": [
        "Ejemplos de recursion\n"
      ],
      "metadata": {
        "id": "uf6DWGUKzNOn"
      }
    },
    {
      "cell_type": "code",
      "execution_count": null,
      "metadata": {
        "id": "4fDfTvHazB3x"
      },
      "outputs": [],
      "source": [
        "# Calculo de factorial con recursio\n",
        "\n",
        "def factorial(n):\n",
        "  #caso base. Factorial de 1! = 1\n",
        "  if n == 0:\n",
        "    return 1\n",
        "  n= n *factorial(n-1)\n",
        "  return n\n",
        "\n",
        "factorial(4)"
      ]
    },
    {
      "cell_type": "code",
      "source": [
        "#suma de los primeros n numeros, desde 1 hasta n\n",
        "\n",
        "def suma_numeros(n):\n",
        "  #caso base:\n",
        "  if n == 0:\n",
        "    return 0\n",
        "  return n + suma_numeros(n-1)\n",
        "\n",
        "suma_numeros(5)\n"
      ],
      "metadata": {
        "id": "XTOYUVh9zTT9"
      },
      "execution_count": null,
      "outputs": []
    },
    {
      "cell_type": "code",
      "source": [
        "#fibonacci\n",
        "def fibonacci(n):\n",
        "  # siendo n la posicion del numero en la secuencia, comenzando en 0.\n",
        "  #hay 2 casos bases\n",
        "  if n == 0:\n",
        "    return 0\n",
        "  if n == 1:\n",
        "    return 1\n",
        "  return fibonacci(n-1) + fibonacci(n-2)\n",
        "\n",
        "fibonacci(10)"
      ],
      "metadata": {
        "id": "Q_onVExfzU65"
      },
      "execution_count": null,
      "outputs": []
    },
    {
      "cell_type": "code",
      "source": [
        "# suma de los digitos de un numero\n",
        "\n",
        "n = 1234\n",
        "\n",
        "def suma_digitos(n):\n",
        "\n",
        "  return int(n)"
      ],
      "metadata": {
        "id": "yaZLymw3zWob"
      },
      "execution_count": null,
      "outputs": []
    },
    {
      "cell_type": "code",
      "source": [
        "#potencia con recursion sin usar **\n",
        "def potencia(a,b):\n",
        "  if b == 0:\n",
        "    return 1\n",
        "  return a * potencia(a, b-1)\n",
        "potencia(2,5)"
      ],
      "metadata": {
        "id": "xH2myNxRzYn_"
      },
      "execution_count": null,
      "outputs": []
    },
    {
      "cell_type": "code",
      "source": [
        "# verificar si una palabra es un palindromo\n",
        "def palindromo(frase):\n",
        "  # el caso base deberia ser un string con 1 solo caracter\n",
        "  n= len(frase)\n",
        "  if n == 0\n",
        "    return True\n",
        "  if frase[0:]\n",
        "\n"
      ],
      "metadata": {
        "id": "dzBrE296zaDB"
      },
      "execution_count": null,
      "outputs": []
    },
    {
      "cell_type": "code",
      "source": [
        "frase = \"wdwddwwdwd\"\n",
        "print(frase[1:3])"
      ],
      "metadata": {
        "id": "lJ1VQVVmzbrJ"
      },
      "execution_count": null,
      "outputs": []
    }
  ]
}