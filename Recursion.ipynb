{
  "nbformat": 4,
  "nbformat_minor": 0,
  "metadata": {
    "colab": {
      "provenance": [],
      "authorship_tag": "ABX9TyOBYO1j8onxJVJ2qWfDVLC3",
      "include_colab_link": true
    },
    "kernelspec": {
      "name": "python3",
      "display_name": "Python 3"
    },
    "language_info": {
      "name": "python"
    }
  },
  "cells": [
    {
      "cell_type": "markdown",
      "metadata": {
        "id": "view-in-github",
        "colab_type": "text"
      },
      "source": [
        "<a href=\"https://colab.research.google.com/github/RodrigoGuedesDP/Estructuras-de-Datos-y-Algoritmos/blob/main/Recursion.ipynb\" target=\"_parent\"><img src=\"https://colab.research.google.com/assets/colab-badge.svg\" alt=\"Open In Colab\"/></a>"
      ]
    },
    {
      "cell_type": "markdown",
      "source": [
        "###Ejemplos de recursion basicos\n"
      ],
      "metadata": {
        "id": "uf6DWGUKzNOn"
      }
    },
    {
      "cell_type": "code",
      "execution_count": null,
      "metadata": {
        "id": "4fDfTvHazB3x"
      },
      "outputs": [],
      "source": [
        "# Calculo de factorial con recursio\n",
        "\n",
        "def factorial(n):\n",
        "  #caso base. Factorial de 1! = 1\n",
        "  if n == 0:\n",
        "    return 1\n",
        "  n= n *factorial(n-1)\n",
        "  return n\n",
        "\n",
        "factorial(4)"
      ]
    },
    {
      "cell_type": "code",
      "source": [
        "#suma de los primeros n numeros, desde 1 hasta n\n",
        "\n",
        "def suma_numeros(n):\n",
        "  #caso base:\n",
        "  if n == 0:\n",
        "    return 0\n",
        "  return n + suma_numeros(n-1)\n",
        "\n",
        "suma_numeros(5)\n"
      ],
      "metadata": {
        "id": "XTOYUVh9zTT9"
      },
      "execution_count": null,
      "outputs": []
    },
    {
      "cell_type": "code",
      "source": [
        "#fibonacci\n",
        "def fibonacci(n):\n",
        "  # siendo n la posicion del numero en la secuencia, comenzando en 0.\n",
        "  #hay 2 casos bases\n",
        "  if n == 0:\n",
        "    return 0\n",
        "  if n == 1:\n",
        "    return 1\n",
        "  return fibonacci(n-1) + fibonacci(n-2)\n",
        "\n",
        "fibonacci(10)"
      ],
      "metadata": {
        "id": "Q_onVExfzU65"
      },
      "execution_count": null,
      "outputs": []
    },
    {
      "cell_type": "code",
      "source": [
        "# suma de los digitos de un numero\n",
        "\n",
        "n = 1234\n",
        "def suma_digitos(n):\n",
        "  if n < 10:\n",
        "    return n\n",
        "  return n % 10 + suma_digitos(n//10)\n",
        "suma_digitos(n)"
      ],
      "metadata": {
        "id": "yaZLymw3zWob",
        "colab": {
          "base_uri": "https://localhost:8080/"
        },
        "outputId": "e947cfb0-f91f-4c96-d503-d9f34884b415"
      },
      "execution_count": 11,
      "outputs": [
        {
          "output_type": "execute_result",
          "data": {
            "text/plain": [
              "10"
            ]
          },
          "metadata": {},
          "execution_count": 11
        }
      ]
    },
    {
      "cell_type": "code",
      "source": [
        "#potencia con recursion sin usar **\n",
        "def potencia(a,b):\n",
        "  if b == 0:\n",
        "    return 1\n",
        "  return a * potencia(a, b-1)\n",
        "potencia(3,4)"
      ],
      "metadata": {
        "id": "xH2myNxRzYn_",
        "colab": {
          "base_uri": "https://localhost:8080/"
        },
        "outputId": "e5480fa5-5d26-48ba-b7e2-d9c13b6378fa"
      },
      "execution_count": 2,
      "outputs": [
        {
          "output_type": "execute_result",
          "data": {
            "text/plain": [
              "81"
            ]
          },
          "metadata": {},
          "execution_count": 2
        }
      ]
    },
    {
      "cell_type": "markdown",
      "source": [
        "solucion optimizada"
      ],
      "metadata": {
        "id": "xJPwwSp6KhXW"
      }
    },
    {
      "cell_type": "code",
      "source": [
        "def potencia(a, b):\n",
        "    if b == 0:  # Caso base\n",
        "        return 1\n",
        "    half = potencia(a, b // 2)\n",
        "    if b % 2 == 0:  # Si 'b' es par\n",
        "        return half * half\n",
        "    else:  # Si 'b' es impar\n",
        "        return half * half * a\n",
        "\n",
        "print(potencia(3, 4))  # Output: 81\n"
      ],
      "metadata": {
        "id": "eE7qmYHTKjji"
      },
      "execution_count": null,
      "outputs": []
    },
    {
      "cell_type": "code",
      "source": [
        "# verificar si una palabra es un palindromo\n",
        "# funcion auxiliar\n",
        "def quitar_caracter(frase):\n",
        "  n = len(frase)\n",
        "  if n <2:\n",
        "    return frase\n",
        "  frase_cortada = \"\"\n",
        "  for x in range(1,n-1):\n",
        "    frase_cortada += frase[x]\n",
        "  return frase_cortada\n",
        "\n",
        "def palindromo(frase):\n",
        "  # el caso base deberia ser un string con 1 solo caracter\n",
        "  n= len(frase)\n",
        "  #el caso base es un string vacio o de 1 caracter.\n",
        "  if n == 0:\n",
        "    return True\n",
        "  if n == 1:\n",
        "    return True\n",
        "  if n > 1:\n",
        "    if frase[0] != frase[n-1]:\n",
        "      return False\n",
        "    else:\n",
        "      return palindromo(quitar_caracter(frase))\n",
        "\n",
        "# ejemplo con \"reconocer\"\n",
        "frase = \"reconocer\"\n",
        "print(palindromo(frase))"
      ],
      "metadata": {
        "id": "dzBrE296zaDB",
        "colab": {
          "base_uri": "https://localhost:8080/"
        },
        "outputId": "49788c2e-5716-4a7b-eda6-3f6f09e03512"
      },
      "execution_count": 29,
      "outputs": [
        {
          "output_type": "stream",
          "name": "stdout",
          "text": [
            "True\n"
          ]
        }
      ]
    },
    {
      "cell_type": "markdown",
      "source": [
        "solucion simplificada"
      ],
      "metadata": {
        "id": "yTzdDgnFRArZ"
      }
    },
    {
      "cell_type": "code",
      "source": [
        "def palindromo(frase):\n",
        "  if len(frase) <= 1:\n",
        "    return True\n",
        "  if frase[0] != frase[-1]:\n",
        "    return False\n",
        "  return palindromo(frase[1:-1])\n",
        "palindromo(\"reconocer\")"
      ],
      "metadata": {
        "colab": {
          "base_uri": "https://localhost:8080/"
        },
        "id": "ItesOFAHRCd9",
        "outputId": "58cf78e0-947d-433e-8fc8-c4002c71144c"
      },
      "execution_count": 32,
      "outputs": [
        {
          "output_type": "execute_result",
          "data": {
            "text/plain": [
              "False"
            ]
          },
          "metadata": {},
          "execution_count": 32
        }
      ]
    },
    {
      "cell_type": "markdown",
      "source": [
        "### Ejercicios intermedio-dificil"
      ],
      "metadata": {
        "id": "PtdLuh6sShL7"
      }
    },
    {
      "cell_type": "markdown",
      "source": [
        "#### 1. Generar subconjuntos de un conjunto\n",
        "Escribe una función recursiva que tome un conjunto (representado como una lista) y devuelva todos sus subconjuntos posibles."
      ],
      "metadata": {
        "id": "p6CI8neCD8D4"
      }
    },
    {
      "cell_type": "code",
      "source": [
        "entrada = [1,2,3,4]\n",
        "def subconjuntos(lista):\n",
        "  #caso base\n",
        "  if len(lista) == 0:\n",
        "    return lista\n",
        "  lista = [lista.append(subconjuntos(lista))]\n",
        "\n",
        "\n"
      ],
      "metadata": {
        "id": "l-HeZ6V6Sp0p"
      },
      "execution_count": null,
      "outputs": []
    },
    {
      "cell_type": "code",
      "source": [
        "entrada = [1,2,3]\n",
        "lista2 = []\n",
        "lista2\n",
        "print(entrada.pop())\n",
        "print(entrada)"
      ],
      "metadata": {
        "colab": {
          "base_uri": "https://localhost:8080/"
        },
        "id": "Utu5Ey5kWKN4",
        "outputId": "98bde0a9-d8a2-42b3-e1f1-61ecfe607285"
      },
      "execution_count": 34,
      "outputs": [
        {
          "output_type": "stream",
          "name": "stdout",
          "text": [
            "3\n",
            "[1, 2]\n"
          ]
        }
      ]
    },
    {
      "cell_type": "markdown",
      "source": [
        "\n",
        "#### 2. Resolver la Torre de Hanói\n",
        "Implementa la solución recursiva al problema clásico de la Torre de Hanói, en el que debes mover\n",
        "𝑛\n",
        "n discos de una torre\n",
        "𝐴\n",
        "A a una torre\n",
        "𝐶\n",
        "C, utilizando una torre intermedia\n",
        "𝐵\n",
        "B. Tu función debe imprimir los pasos necesarios para resolver el problema."
      ],
      "metadata": {
        "id": "-V3RRDu0TJNT"
      }
    },
    {
      "cell_type": "code",
      "source": [
        "def torre_hanoi(n):\n",
        "  #caso base\n",
        "  if n == 1:\n",
        "    print(f\"Mueve disco de {inicio} a {destino}\")\n",
        "  if n % 2 ==0:\n",
        "    print(f\"Mueve disco de {inicio} a {destino}\")\n",
        "\n",
        "\n"
      ],
      "metadata": {
        "id": "AEt0ICczjvz9"
      },
      "execution_count": null,
      "outputs": []
    },
    {
      "cell_type": "code",
      "source": [
        "def torre_hanoi(n):\n",
        "  turn = True\n",
        "  if n == 1:\n",
        "    print(f\"Mueve disco de {inicio} a {destino}\")\n",
        "  if n % 2 !=0:\n",
        "    turn = False\n",
        "    print(f\"Mueve disco de {inicio} a {destino}\")\n",
        "\n",
        "\n"
      ],
      "metadata": {
        "id": "a4WNCNZ_y_tu"
      },
      "execution_count": null,
      "outputs": []
    },
    {
      "cell_type": "code",
      "source": [
        "#sabemos que la solucion a la torre de hanoi requier 2^n -1 pasos.\n",
        "A = [3,2,1]\n",
        "B= [4]\n",
        "C= []\n",
        "B.append(A.pop())\n",
        "print(A)\n",
        "print(B)\n"
      ],
      "metadata": {
        "colab": {
          "base_uri": "https://localhost:8080/"
        },
        "id": "k7Ni94eTTNIw",
        "outputId": "d50760b0-84d0-423b-b3f5-beea1d015de0"
      },
      "execution_count": 38,
      "outputs": [
        {
          "output_type": "stream",
          "name": "stdout",
          "text": [
            "[3, 2]\n",
            "[4, 1]\n"
          ]
        }
      ]
    },
    {
      "cell_type": "markdown",
      "source": [
        "#### 3. Permutaciones de una cadena\n",
        "Escribe una función recursiva que genere todas las permutaciones posibles de una cadena de texto."
      ],
      "metadata": {
        "id": "jI_xYG0STN7_"
      }
    },
    {
      "cell_type": "code",
      "source": [],
      "metadata": {
        "id": "IBLwvWUvTS5e"
      },
      "execution_count": null,
      "outputs": []
    },
    {
      "cell_type": "markdown",
      "source": [
        "#### 4. Resolver un laberinto\n",
        "Dado un laberinto representado como una matriz de\n",
        "𝑛\n",
        "×\n",
        "𝑚\n",
        "n×m, donde:\n",
        "\n",
        "0\n",
        "0: Celda bloqueada.\n",
        "1\n",
        "1: Celda transitable.\n",
        "Escribe una función recursiva que encuentre un camino desde la esquina superior izquierda\n",
        "(\n",
        "0\n",
        ",\n",
        "0\n",
        ")\n",
        "(0,0) hasta la esquina inferior derecha\n",
        "(\n",
        "𝑛\n",
        "−\n",
        "1\n",
        ",\n",
        "𝑚\n",
        "−\n",
        "1\n",
        ")\n",
        "(n−1,m−1). Tu función debe devolver el camino en forma de una lista de coordenadas."
      ],
      "metadata": {
        "id": "RKSgKiZlTTYR"
      }
    },
    {
      "cell_type": "code",
      "source": [],
      "metadata": {
        "id": "oo8NsxpyTYTm"
      },
      "execution_count": null,
      "outputs": []
    }
  ]
}