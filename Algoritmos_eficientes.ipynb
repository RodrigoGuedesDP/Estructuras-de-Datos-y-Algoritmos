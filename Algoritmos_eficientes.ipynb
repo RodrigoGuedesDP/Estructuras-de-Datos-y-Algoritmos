{
  "nbformat": 4,
  "nbformat_minor": 0,
  "metadata": {
    "colab": {
      "provenance": [],
      "authorship_tag": "ABX9TyM/+vsfWTN9pWE9K0DyrW/v",
      "include_colab_link": true
    },
    "kernelspec": {
      "name": "python3",
      "display_name": "Python 3"
    },
    "language_info": {
      "name": "python"
    }
  },
  "cells": [
    {
      "cell_type": "markdown",
      "metadata": {
        "id": "view-in-github",
        "colab_type": "text"
      },
      "source": [
        "<a href=\"https://colab.research.google.com/github/RodrigoGuedesDP/Estructuras-de-Datos-y-Algoritmos/blob/main/Algoritmos_eficientes.ipynb\" target=\"_parent\"><img src=\"https://colab.research.google.com/assets/colab-badge.svg\" alt=\"Open In Colab\"/></a>"
      ]
    },
    {
      "cell_type": "markdown",
      "source": [
        "### Dado n entero grande, calcular n mod 9"
      ],
      "metadata": {
        "id": "LqMM66Q9yhKp"
      }
    },
    {
      "cell_type": "markdown",
      "source": [
        "##### Ineficiente, calcular n mod 9"
      ],
      "metadata": {
        "id": "9bYafc6qyrYU"
      }
    },
    {
      "cell_type": "code",
      "execution_count": 4,
      "metadata": {
        "id": "ppMSHjglyTlz",
        "outputId": "80419507-e5d8-4d6d-fb41-c4a8b0e4a6f6",
        "colab": {
          "base_uri": "https://localhost:8080/"
        }
      },
      "outputs": [
        {
          "output_type": "stream",
          "name": "stdout",
          "text": [
            "2\n"
          ]
        }
      ],
      "source": [
        "n = 99839278234324235\n",
        "resultado = n % 9\n",
        "print(resultado)"
      ]
    },
    {
      "cell_type": "markdown",
      "source": [
        "##### eficiente"
      ],
      "metadata": {
        "id": "K7M2hXKUy8fM"
      }
    },
    {
      "cell_type": "code",
      "source": [
        "n = 99839278234324235\n",
        "# Primero necesitamos una funcion que dado un numero sume todos sus digitos. Luego la llamamos recursivamente\n",
        "\n",
        "def sum_dig(n):\n",
        "  digitos = []\n",
        "  num = n\n",
        "  while num > 10:\n",
        "    r = num % 10\n",
        "    num = num // 10\n",
        "    digitos.append(r)\n",
        "  digitos.append(num)\n",
        "\n",
        "\n"
      ],
      "metadata": {
        "id": "hizsyc0szmkk"
      },
      "execution_count": null,
      "outputs": []
    },
    {
      "cell_type": "markdown",
      "source": [
        "### Problema exponenciacion modular: Dado numeros grandes enteros a, n, m, Calcular a^n mod m"
      ],
      "metadata": {
        "id": "zJ2ng0En0cCb"
      }
    },
    {
      "cell_type": "markdown",
      "source": [
        "##### Metodo A: Calcular literalmmente a** n mod m"
      ],
      "metadata": {
        "id": "tWbTQdlq0m9f"
      }
    },
    {
      "cell_type": "code",
      "source": [],
      "metadata": {
        "id": "qt4nxdbm00Wn"
      },
      "execution_count": null,
      "outputs": []
    },
    {
      "cell_type": "markdown",
      "source": [
        "##### Metodo B:"
      ],
      "metadata": {
        "id": "0-Wmn9UM03EV"
      }
    },
    {
      "cell_type": "code",
      "source": [],
      "metadata": {
        "id": "HVPxR3051JMl"
      },
      "execution_count": null,
      "outputs": []
    },
    {
      "cell_type": "markdown",
      "source": [
        "##### Metodo C:"
      ],
      "metadata": {
        "id": "P5BDsPoj1ESt"
      }
    },
    {
      "cell_type": "code",
      "source": [],
      "metadata": {
        "id": "5PWB0VdE1EF2"
      },
      "execution_count": null,
      "outputs": []
    }
  ]
}