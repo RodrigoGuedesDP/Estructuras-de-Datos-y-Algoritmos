{
  "nbformat": 4,
  "nbformat_minor": 0,
  "metadata": {
    "colab": {
      "provenance": [],
      "authorship_tag": "ABX9TyNkLkXGGeKqaTvaZWcQboYx",
      "include_colab_link": true
    },
    "kernelspec": {
      "name": "python3",
      "display_name": "Python 3"
    },
    "language_info": {
      "name": "python"
    }
  },
  "cells": [
    {
      "cell_type": "markdown",
      "metadata": {
        "id": "view-in-github",
        "colab_type": "text"
      },
      "source": [
        "<a href=\"https://colab.research.google.com/github/RodrigoGuedesDP/Estructuras-de-Datos-y-Algoritmos/blob/main/Algoritmos_eficientes.ipynb\" target=\"_parent\"><img src=\"https://colab.research.google.com/assets/colab-badge.svg\" alt=\"Open In Colab\"/></a>"
      ]
    },
    {
      "cell_type": "markdown",
      "source": [
        "### Dado n entero grande, calcular n mod 9"
      ],
      "metadata": {
        "id": "LqMM66Q9yhKp"
      }
    },
    {
      "cell_type": "markdown",
      "source": [
        "##### Ineficiente, calcular n mod 9"
      ],
      "metadata": {
        "id": "9bYafc6qyrYU"
      }
    },
    {
      "cell_type": "code",
      "execution_count": null,
      "metadata": {
        "id": "ppMSHjglyTlz",
        "colab": {
          "base_uri": "https://localhost:8080/"
        },
        "outputId": "80419507-e5d8-4d6d-fb41-c4a8b0e4a6f6"
      },
      "outputs": [
        {
          "output_type": "stream",
          "name": "stdout",
          "text": [
            "2\n"
          ]
        }
      ],
      "source": [
        "n = 99839278234324235\n",
        "resultado = n % 9\n",
        "print(resultado)"
      ]
    },
    {
      "cell_type": "markdown",
      "source": [
        "##### eficiente"
      ],
      "metadata": {
        "id": "K7M2hXKUy8fM"
      }
    },
    {
      "cell_type": "code",
      "source": [
        "n = 99839278234324235\n",
        "# Primero necesitamos una funcion que dado un numero sume todos sus digitos. Luego la llamamos recursivamente\n",
        "\n",
        "def sum_dig(n):\n",
        "  if n < 10:\n",
        "    return n\n",
        "  elif n >= 10:\n",
        "    num = n\n",
        "    digitos = []\n",
        "    while num > 10:\n",
        "      r = num % 10\n",
        "      num = num // 10\n",
        "      digitos.append(r)\n",
        "    digitos.append(num)\n",
        "    suma = sum(digitos)\n",
        "    return suma\n",
        "\n",
        "# ahora una funcion para calcular el mod de 9\n",
        "\n",
        "def mod_9(n):\n",
        "  while n > 10:\n",
        "    n = sum_dig(n)\n",
        "  residuo = n % 9\n",
        "  return residuo\n",
        "\n",
        "mod_9(n)\n"
      ],
      "metadata": {
        "colab": {
          "base_uri": "https://localhost:8080/"
        },
        "id": "hizsyc0szmkk",
        "outputId": "002c9280-feb5-47fb-e6d6-08e53901e9f4"
      },
      "execution_count": null,
      "outputs": [
        {
          "output_type": "execute_result",
          "data": {
            "text/plain": [
              "2"
            ]
          },
          "metadata": {},
          "execution_count": 6
        }
      ]
    },
    {
      "cell_type": "code",
      "source": [
        "# Otro metodo\n",
        "\n",
        "def sum_dig(n):\n",
        "    # Sumar los dígitos directamente usando una comprensión\n",
        "    return sum(int(d) for d in str(n))\n",
        "\n",
        "def mod_9(n):\n",
        "    # Reducir el número iterando hasta que sea un solo dígito\n",
        "    while n >= 10:\n",
        "        n = sum_dig(n)\n",
        "    return n % 9  # El residuo final entre 9\n",
        "\n",
        "# Ejemplo de uso\n",
        "n = 99839278234324235\n",
        "print(mod_9(n))\n"
      ],
      "metadata": {
        "id": "zIUuMx-ZKtZk"
      },
      "execution_count": null,
      "outputs": []
    },
    {
      "cell_type": "markdown",
      "source": [
        "### Problema exponenciacion modular: Dado numeros grandes enteros a, n, m, Calcular a^n mod m"
      ],
      "metadata": {
        "id": "zJ2ng0En0cCb"
      }
    },
    {
      "cell_type": "markdown",
      "source": [
        "##### Metodo A: Calcular literalmmente a** n mod m"
      ],
      "metadata": {
        "id": "tWbTQdlq0m9f"
      }
    },
    {
      "cell_type": "code",
      "source": [
        "n = 10,000,000 # 7 ceros\n",
        "a = 3\n",
        "m = 2 ** n"
      ],
      "metadata": {
        "id": "qt4nxdbm00Wn"
      },
      "execution_count": null,
      "outputs": []
    },
    {
      "cell_type": "markdown",
      "source": [
        "##### Metodo B:"
      ],
      "metadata": {
        "id": "0-Wmn9UM03EV"
      }
    },
    {
      "cell_type": "code",
      "source": [
        "n = 10,000,000 # 7 ceros\n",
        "a = 3\n",
        "m = 2 ** n"
      ],
      "metadata": {
        "id": "HVPxR3051JMl"
      },
      "execution_count": null,
      "outputs": []
    },
    {
      "cell_type": "markdown",
      "source": [
        "##### Metodo C:"
      ],
      "metadata": {
        "id": "P5BDsPoj1ESt"
      }
    },
    {
      "cell_type": "code",
      "source": [
        "# una funcion para calcular el residuo\n",
        "\n",
        "def modular(a, n, m):\n",
        "  if n == 0:\n",
        "    return 1\n",
        "  d = modular(a,n//2,m)\n",
        "  d = a**(n//2)% m\n",
        "  if n %2 == 0:\n",
        "    e = (d*d)% m\n",
        "  elif n % 2 !=0:\n",
        "    e = (d*d*a)% m\n",
        "  return e\n",
        "\n",
        "def calculo_residuo(a, n, m):\n",
        "  return modular(a,n,m)\n",
        "\n",
        "\n",
        "\n"
      ],
      "metadata": {
        "id": "5PWB0VdE1EF2"
      },
      "execution_count": null,
      "outputs": []
    },
    {
      "cell_type": "code",
      "source": [
        "3//2"
      ],
      "metadata": {
        "colab": {
          "base_uri": "https://localhost:8080/"
        },
        "id": "Ll8DEGcHewcf",
        "outputId": "3c2d9cd4-c2e6-4331-f0d7-bc5cb8b34666"
      },
      "execution_count": null,
      "outputs": [
        {
          "output_type": "execute_result",
          "data": {
            "text/plain": [
              "1"
            ]
          },
          "metadata": {},
          "execution_count": 8
        }
      ]
    }
  ]
}