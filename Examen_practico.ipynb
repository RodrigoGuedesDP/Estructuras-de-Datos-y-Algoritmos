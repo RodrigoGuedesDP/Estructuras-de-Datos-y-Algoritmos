{
  "nbformat": 4,
  "nbformat_minor": 0,
  "metadata": {
    "colab": {
      "provenance": [],
      "authorship_tag": "ABX9TyP6hIAwacy1hWGWeTWwdKeW",
      "include_colab_link": true
    },
    "kernelspec": {
      "name": "python3",
      "display_name": "Python 3"
    },
    "language_info": {
      "name": "python"
    }
  },
  "cells": [
    {
      "cell_type": "markdown",
      "metadata": {
        "id": "view-in-github",
        "colab_type": "text"
      },
      "source": [
        "<a href=\"https://colab.research.google.com/github/RodrigoGuedesDP/Estructuras-de-Datos-y-Algoritmos/blob/main/Examen_practico.ipynb\" target=\"_parent\"><img src=\"https://colab.research.google.com/assets/colab-badge.svg\" alt=\"Open In Colab\"/></a>"
      ]
    },
    {
      "cell_type": "code",
      "execution_count": null,
      "metadata": {
        "id": "cmLGQVA_E11r"
      },
      "outputs": [],
      "source": [
        "class Solution:\n",
        "  def maxDepth(self, s):\n",
        "     if (s.count == 0 or (s.count == 1 and s != '(o)')) or\n",
        "\n",
        "  def count(self,s):\n",
        "    count = 0\n",
        "    for letter in s:\n",
        "      if letter != \"(\" and letter != \")\":\n",
        "        count += 1\n",
        "      self.count = count\n",
        "  def isVPS(self,s):\n",
        "    VPS = False\n",
        "    if s.count == 0 or (s.count == 1 and s != '(o)'):\n",
        "      VPS = True\n",
        "    if isVPS(f'({s})') == True:\n",
        "      VPS == True\n",
        "    if s == A + B isVPS(f'({A})') and isVPS(f'({B})'):\n",
        "      VPS == True\n",
        "\n",
        "\n",
        "\n",
        "\n",
        "\n",
        "\n",
        "\n"
      ]
    },
    {
      "cell_type": "code",
      "source": [
        "s = 'gato'\n",
        "len(s)"
      ],
      "metadata": {
        "colab": {
          "base_uri": "https://localhost:8080/"
        },
        "id": "WDc5rE2iHzKH",
        "outputId": "2322e1f9-c12d-4cf2-b331-11589ad5bf74"
      },
      "execution_count": 1,
      "outputs": [
        {
          "output_type": "execute_result",
          "data": {
            "text/plain": [
              "4"
            ]
          },
          "metadata": {},
          "execution_count": 1
        }
      ]
    }
  ]
}