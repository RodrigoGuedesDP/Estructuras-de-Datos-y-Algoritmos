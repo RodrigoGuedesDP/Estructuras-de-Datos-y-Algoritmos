{
  "nbformat": 4,
  "nbformat_minor": 0,
  "metadata": {
    "colab": {
      "provenance": [],
      "authorship_tag": "ABX9TyMgtGjA1Wt5tvLhQFpyX0WW",
      "include_colab_link": true
    },
    "kernelspec": {
      "name": "python3",
      "display_name": "Python 3"
    },
    "language_info": {
      "name": "python"
    }
  },
  "cells": [
    {
      "cell_type": "markdown",
      "metadata": {
        "id": "view-in-github",
        "colab_type": "text"
      },
      "source": [
        "<a href=\"https://colab.research.google.com/github/RodrigoGuedesDP/Estructuras-de-Datos-y-Algoritmos/blob/main/Examen_Final.ipynb\" target=\"_parent\"><img src=\"https://colab.research.google.com/assets/colab-badge.svg\" alt=\"Open In Colab\"/></a>"
      ]
    },
    {
      "cell_type": "code",
      "source": [
        "class TreeNode:\n",
        "    def __init__(self, val=0, left=None, right=None):\n",
        "        self.val = val\n",
        "        self.left = left\n",
        "        self.right = right\n",
        "\n",
        "\n",
        "\n",
        "root = TreeNode(1)\n",
        "root.left = TreeNode(2)\n",
        "root.right = TreeNode(3)\n",
        "root.left.left = TreeNode(4)\n",
        "root.left.right = TreeNode(5)\n",
        "root.right.left = TreeNode(6)\n",
        "root.right.right = TreeNode(7)\n",
        "\n"
      ],
      "metadata": {
        "id": "keQPxLR2_BQy"
      },
      "execution_count": null,
      "outputs": []
    },
    {
      "cell_type": "code",
      "execution_count": null,
      "metadata": {
        "id": "epHZ525w4Tr7"
      },
      "outputs": [],
      "source": [
        "#BFS\n",
        "from collections import deque\n",
        "\n",
        "def bfs(root):\n",
        "    if not root:\n",
        "        return\n",
        "\n",
        "    queue = deque([root])  # Usamos una cola para almacenar los nodos\n",
        "    while queue:\n",
        "        node = queue.popleft()  # Sacamos el nodo de la cola\n",
        "        print(node.val)  # Procesamos el nodo actual\n",
        "\n",
        "        # Agregamos los hijos del nodo actual a la cola\n",
        "        if node.left:\n",
        "            queue.append(node.left)\n",
        "        if node.right:\n",
        "            queue.append(node.right)\n"
      ]
    },
    {
      "cell_type": "code",
      "source": [
        "#DFS\n",
        "def dfs_recursive(node):\n",
        "    if not node:\n",
        "        return\n",
        "\n",
        "    # Procesar el nodo actual\n",
        "    print(node.val)  # Aquí puedes realizar cualquier operación con el nodo\n",
        "\n",
        "    # Recorrer el subárbol izquierdo\n",
        "    dfs_recursive(node.left)\n",
        "\n",
        "    # Recorrer el subárbol derecho\n",
        "    dfs_recursive(node.right)\n"
      ],
      "metadata": {
        "id": "dnh_A3Ez_LaH"
      },
      "execution_count": null,
      "outputs": []
    },
    {
      "cell_type": "code",
      "source": [
        "def dfs_iterative(root):\n",
        "    if not root:\n",
        "        return\n",
        "\n",
        "    stack = [root]  # Usamos una pila para almacenar los nodos\n",
        "    while stack:\n",
        "        node = stack.pop()  # Sacamos el nodo de la pila\n",
        "        print(node.val)  # Procesamos el nodo actual\n",
        "\n",
        "        # Agregamos los hijos a la pila (derecho primero para que el izquierdo se procese primero)\n",
        "        if node.right:\n",
        "            stack.append(node.right)\n",
        "        if node.left:\n",
        "            stack.append(node.left)\n"
      ],
      "metadata": {
        "id": "F65ku0DC_PlK"
      },
      "execution_count": null,
      "outputs": []
    },
    {
      "cell_type": "code",
      "source": [
        "# Prueba DFS y BFS\n",
        "print(\"DFS Recursivo:\")\n",
        "dfs_recursive(root)\n",
        "\n",
        "\n",
        "\n",
        "\n",
        "\n",
        "\n"
      ],
      "metadata": {
        "id": "hiyb8OLj_WHv",
        "outputId": "eebb022d-5d36-445c-f337-858517544586",
        "colab": {
          "base_uri": "https://localhost:8080/"
        }
      },
      "execution_count": null,
      "outputs": [
        {
          "output_type": "stream",
          "name": "stdout",
          "text": [
            "DFS Recursivo:\n",
            "1\n",
            "2\n",
            "4\n",
            "5\n",
            "3\n",
            "6\n",
            "7\n"
          ]
        }
      ]
    },
    {
      "cell_type": "code",
      "source": [
        "print(\"\\nDFS Iterativo:\")\n",
        "dfs_iterative(root)\n",
        "\n",
        "print(\"\\nBFS:\")\n",
        "bfs(root)"
      ],
      "metadata": {
        "id": "qhrzflKr_vs_"
      },
      "execution_count": null,
      "outputs": []
    },
    {
      "cell_type": "markdown",
      "source": [
        "## PRIM Y KRUSKAL"
      ],
      "metadata": {
        "id": "7yM5rs1sCn5s"
      }
    },
    {
      "cell_type": "markdown",
      "source": [
        "Idea: Empieza en un nodo cualquiera y va \"haciendo crecer\" el árbol agregando siempre la arista más barata que conecte un nodo dentro del árbol parcial con uno fuera del árbol parcial, hasta que todos los nodos estén incluidos. Es como ir expandiendo una burbuja.\n",
        "\n",
        "\n",
        "PRIM(Grafo G, VérticeInicial s)\n",
        "\n",
        "  Para cada vértice v en G:\n",
        "    costo[v] = INFINITO  // Costo mínimo conocido para conectar v al árbol\n",
        "    padre[v] = NULO      // Padre de v en el MST\n",
        "    visitado[v] = FALSO  // Si el vértice ya está en el árbol final\n",
        "\n",
        "  costo[s] = 0\n",
        "  ColaPrioridad Q = Todos los vértices de G (prioridad dada por costo[])\n",
        "\n",
        "  Mientras Q no esté vacía:\n",
        "    u = ExtraerMínimo(Q)  // Obtiene el vértice no visitado con menor costo\n",
        "    visitado[u] = VERDADERO\n",
        "\n",
        "    Para cada vecino v de u:\n",
        "      Si visitado[v] es FALSO y peso(u, v) < costo[v]:\n",
        "        costo[v] = peso(u, v) // Actualiza el costo para llegar a v\n",
        "        padre[v] = u         // Marca u como el padre de v en el camino más barato encontrado hasta ahora\n",
        "        ActualizarPrioridad(Q, v) // Reajusta la posición de v en la cola\n",
        "\n",
        "  // El MST está formado por las aristas (padre[v], v) para cada v != s\n",
        "  Devolver el conjunto de aristas (padre[v], v)"
      ],
      "metadata": {
        "id": "64bSzCBMCz4j"
      }
    },
    {
      "cell_type": "code",
      "source": [
        "import heapq\n",
        "\n",
        "def prim(graph, start_node):\n",
        "    \"\"\"\n",
        "    Encuentra el MST usando el algoritmo de Prim.\n",
        "\n",
        "    Args:\n",
        "        graph: Grafo representado como un diccionario de adyacencia.\n",
        "               Ej: {nodo: [(vecino1, peso1), (vecino2, peso2), ...]}\n",
        "        start_node: El nodo desde donde empezar a construir el MST.\n",
        "\n",
        "    Returns:\n",
        "        Una tupla: (mst_edges, total_cost)\n",
        "        mst_edges: Una lista de tuplas (u, v, peso) representando las aristas del MST.\n",
        "        total_cost: El costo total del MST.\n",
        "    \"\"\"\n",
        "    if not graph or start_node not in graph:\n",
        "        return [], 0\n",
        "\n",
        "    mst_edges = []\n",
        "    visited = set()\n",
        "    min_heap = [(0, start_node, None)] # (peso, nodo_actual, nodo_padre)\n",
        "    total_cost = 0\n",
        "    edge_count = 0\n",
        "    num_vertices = len(graph)\n",
        "\n",
        "    # Usamos un diccionario para rastrear el menor costo para alcanzar cada nodo\n",
        "    # y evitar añadir aristas más caras a la cola si ya encontramos una mejor\n",
        "    min_cost_to_node = {node: float('inf') for node in graph}\n",
        "    min_cost_to_node[start_node] = 0\n",
        "\n",
        "    while min_heap and edge_count < num_vertices : # Puede parar antes si el grafo no es conexo\n",
        "        cost, current_node, parent_node = heapq.heappop(min_heap)\n",
        "\n",
        "        # Si ya visitamos este nodo con un costo menor o igual, lo ignoramos\n",
        "        if current_node in visited:\n",
        "             continue\n",
        "\n",
        "        # Marcamos como visitado\n",
        "        visited.add(current_node)\n",
        "\n",
        "        # Si parent_node no es None, significa que esta arista conecta al MST\n",
        "        if parent_node is not None:\n",
        "            mst_edges.append((parent_node, current_node, cost))\n",
        "            total_cost += cost\n",
        "            edge_count +=1 # Contamos nodos añadidos al MST (excepto el inicial)\n",
        "\n",
        "        # Exploramos los vecinos\n",
        "        for neighbor, weight in graph.get(current_node, []):\n",
        "            if neighbor not in visited and weight < min_cost_to_node[neighbor]:\n",
        "                 # Actualizamos el costo mínimo para alcanzar este vecino\n",
        "                 min_cost_to_node[neighbor] = weight\n",
        "                 # Añadimos la nueva ruta potencial a la cola\n",
        "                 heapq.heappush(min_heap, (weight, neighbor, current_node))\n",
        "\n",
        "    # Verifica si todos los nodos fueron alcanzados (si el grafo es conexo)\n",
        "    # if len(visited) != num_vertices:\n",
        "    #     print(\"Advertencia: El grafo podría no ser conexo. MST generado para el componente conectado.\")\n",
        "\n",
        "    return mst_edges, total_cost\n",
        "\n",
        "# --- Ejemplo de Uso ---\n",
        "graph_prim = {\n",
        "    'A': [('B', 2), ('D', 5)],\n",
        "    'B': [('A', 2), ('C', 3), ('D', 1)],\n",
        "    'C': [('B', 3), ('D', 4)],\n",
        "    'D': [('A', 5), ('B', 1), ('C', 4)]\n",
        "}\n",
        "# Asumiendo que todos los nodos están presentes como claves\n",
        "vertices = list(graph_prim.keys())\n",
        "for v in vertices:\n",
        "    if v not in graph_prim:\n",
        "        graph_prim[v] = []\n",
        "\n",
        "\n",
        "print(\"--- Algoritmo de Prim ---\")\n",
        "mst_prim_edges, cost_prim = prim(graph_prim, 'A')\n",
        "print(f\"Aristas del MST (Prim): {mst_prim_edges}\")\n",
        "print(f\"Costo total del MST (Prim): {cost_prim}\")\n",
        "print(\"-\" * 25)"
      ],
      "metadata": {
        "id": "zIlTnEVwCsNr"
      },
      "execution_count": null,
      "outputs": []
    },
    {
      "cell_type": "markdown",
      "source": [
        "Algoritmo de Kruskal\n",
        "\n",
        "Idea: Ordena todas las aristas del grafo de menor a mayor peso. Recorre las aristas ordenadas y agrega una arista al árbol si y solo si no forma un ciclo con las aristas ya seleccionadas. Utiliza la estructura de datos Union-Find (o Disjoint Set Union) para detectar ciclos eficientemente."
      ],
      "metadata": {
        "id": "Bo0V2WwhC-8n"
      }
    },
    {
      "cell_type": "code",
      "source": [
        "# Clase para la estructura Union-Find (Disjoint Set Union)\n",
        "class UnionFind:\n",
        "    def __init__(self, nodes):\n",
        "        # Inicialmente, cada nodo es su propio padre (conjuntos separados)\n",
        "        self.parent = {node: node for node in nodes}\n",
        "        # Optimización: Rango para unir el árbol más corto al más largo\n",
        "        self.rank = {node: 0 for node in nodes}\n",
        "\n",
        "    def find(self, i):\n",
        "        # Encuentra el representante (raíz) del conjunto al que pertenece i\n",
        "        # Optimización: Compresión de caminos\n",
        "        if self.parent[i] == i:\n",
        "            return i\n",
        "        self.parent[i] = self.find(self.parent[i]) # Actualiza el padre directamente a la raíz\n",
        "        return self.parent[i]\n",
        "\n",
        "    def union(self, i, j):\n",
        "        # Une los conjuntos que contienen a i y j\n",
        "        root_i = self.find(i)\n",
        "        root_j = self.find(j)\n",
        "        if root_i != root_j: # Solo une si están en conjuntos diferentes\n",
        "            # Optimización: Unión por rango\n",
        "            if self.rank[root_i] < self.rank[root_j]:\n",
        "                self.parent[root_i] = root_j\n",
        "            elif self.rank[root_i] > self.rank[root_j]:\n",
        "                self.parent[root_j] = root_i\n",
        "            else:\n",
        "                # Si los rangos son iguales, elige uno como padre y aumenta su rango\n",
        "                self.parent[root_j] = root_i\n",
        "                self.rank[root_i] += 1\n",
        "            return True # Indica que se realizó la unión\n",
        "        return False # Indica que ya estaban unidos (no se hizo nada)\n",
        "\n",
        "def kruskal(graph_nodes, edges):\n",
        "    \"\"\"\n",
        "    Encuentra el MST usando el algoritmo de Kruskal.\n",
        "\n",
        "    Args:\n",
        "        graph_nodes: Una lista o conjunto de todos los nodos en el grafo.\n",
        "        edges: Una lista de tuplas representando las aristas.\n",
        "               Ej: [(peso1, nodo_u1, nodo_v1), (peso2, nodo_u2, nodo_v2), ...]\n",
        "\n",
        "    Returns:\n",
        "        Una tupla: (mst_edges, total_cost)\n",
        "        mst_edges: Una lista de tuplas (u, v, peso) representando las aristas del MST.\n",
        "        total_cost: El costo total del MST.\n",
        "    \"\"\"\n",
        "    mst_edges = []\n",
        "    total_cost = 0\n",
        "    num_vertices = len(graph_nodes)\n",
        "\n",
        "    # 1. Ordenar todas las aristas por peso\n",
        "    edges.sort() # Ordena por el primer elemento de la tupla (peso)\n",
        "\n",
        "    # 2. Inicializar Union-Find\n",
        "    uf = UnionFind(graph_nodes)\n",
        "\n",
        "    # 3. Recorrer las aristas ordenadas\n",
        "    edge_count = 0\n",
        "    for weight, u, v in edges:\n",
        "        # Si añadir la arista no forma un ciclo (u y v están en conjuntos diferentes)\n",
        "        if uf.find(u) != uf.find(v):\n",
        "            uf.union(u, v) # Une los conjuntos\n",
        "            mst_edges.append((u, v, weight))\n",
        "            total_cost += weight\n",
        "            edge_count += 1\n",
        "            # Optimización: Parar cuando tengamos V-1 aristas (para un grafo conexo)\n",
        "            if edge_count == num_vertices - 1:\n",
        "                break\n",
        "\n",
        "    # Podríamos añadir una verificación aquí para ver si edge_count == num_vertices - 1\n",
        "    # si el grafo original era conexo. Si no, se encontró el MST del bosque.\n",
        "\n",
        "    return mst_edges, total_cost\n",
        "\n",
        "# --- Ejemplo de Uso ---\n",
        "nodes_kruskal = {'A', 'B', 'C', 'D'}\n",
        "edges_kruskal = [\n",
        "    (2, 'A', 'B'), (5, 'A', 'D'),\n",
        "    (3, 'B', 'C'), (1, 'B', 'D'),\n",
        "    (4, 'C', 'D')\n",
        "]\n",
        "# Asegurarse de que las aristas no estén duplicadas implícitamente (ej: (2, 'B', 'A'))\n",
        "# Si el input tiene duplicados A-B y B-A, necesitaríamos filtrarlos o asegurar que\n",
        "# la estructura UnionFind maneje esto correctamente (lo hace).\n",
        "\n",
        "\n",
        "print(\"--- Algoritmo de Kruskal ---\")\n",
        "mst_kruskal_edges, cost_kruskal = kruskal(nodes_kruskal, edges_kruskal)\n",
        "print(f\"Aristas del MST (Kruskal): {mst_kruskal_edges}\")\n",
        "print(f\"Costo total del MST (Kruskal): {cost_kruskal}\")\n",
        "print(\"-\" * 25)"
      ],
      "metadata": {
        "id": "swwTo6C3DCBt"
      },
      "execution_count": null,
      "outputs": []
    }
  ]
}