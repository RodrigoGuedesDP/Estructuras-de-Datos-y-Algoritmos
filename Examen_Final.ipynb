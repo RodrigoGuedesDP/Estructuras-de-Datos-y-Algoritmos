{
  "nbformat": 4,
  "nbformat_minor": 0,
  "metadata": {
    "colab": {
      "provenance": [],
      "authorship_tag": "ABX9TyMH3ObCIOGztqxBhYFmseWT",
      "include_colab_link": true
    },
    "kernelspec": {
      "name": "python3",
      "display_name": "Python 3"
    },
    "language_info": {
      "name": "python"
    }
  },
  "cells": [
    {
      "cell_type": "markdown",
      "metadata": {
        "id": "view-in-github",
        "colab_type": "text"
      },
      "source": [
        "<a href=\"https://colab.research.google.com/github/RodrigoGuedesDP/Estructuras-de-Datos-y-Algoritmos/blob/main/Examen_Final.ipynb\" target=\"_parent\"><img src=\"https://colab.research.google.com/assets/colab-badge.svg\" alt=\"Open In Colab\"/></a>"
      ]
    },
    {
      "cell_type": "code",
      "source": [
        "class TreeNode:\n",
        "    def __init__(self, val=0, left=None, right=None):\n",
        "        self.val = val\n",
        "        self.left = left\n",
        "        self.right = right\n",
        "\n",
        "\n",
        "\n",
        "root = TreeNode(1)\n",
        "root.left = TreeNode(2)\n",
        "root.right = TreeNode(3)\n",
        "root.left.left = TreeNode(4)\n",
        "root.left.right = TreeNode(5)\n",
        "root.right.left = TreeNode(6)\n",
        "root.right.right = TreeNode(7)\n",
        "\n"
      ],
      "metadata": {
        "id": "keQPxLR2_BQy"
      },
      "execution_count": 1,
      "outputs": []
    },
    {
      "cell_type": "code",
      "execution_count": 2,
      "metadata": {
        "id": "epHZ525w4Tr7"
      },
      "outputs": [],
      "source": [
        "#BFS\n",
        "from collections import deque\n",
        "\n",
        "def bfs(root):\n",
        "    if not root:\n",
        "        return\n",
        "\n",
        "    queue = deque([root])  # Usamos una cola para almacenar los nodos\n",
        "    while queue:\n",
        "        node = queue.popleft()  # Sacamos el nodo de la cola\n",
        "        print(node.val)  # Procesamos el nodo actual\n",
        "\n",
        "        # Agregamos los hijos del nodo actual a la cola\n",
        "        if node.left:\n",
        "            queue.append(node.left)\n",
        "        if node.right:\n",
        "            queue.append(node.right)\n"
      ]
    },
    {
      "cell_type": "code",
      "source": [
        "#DFS\n",
        "def dfs_recursive(node):\n",
        "    if not node:\n",
        "        return\n",
        "\n",
        "    # Procesar el nodo actual\n",
        "    print(node.val)  # Aquí puedes realizar cualquier operación con el nodo\n",
        "\n",
        "    # Recorrer el subárbol izquierdo\n",
        "    dfs_recursive(node.left)\n",
        "\n",
        "    # Recorrer el subárbol derecho\n",
        "    dfs_recursive(node.right)\n"
      ],
      "metadata": {
        "id": "dnh_A3Ez_LaH"
      },
      "execution_count": 7,
      "outputs": []
    },
    {
      "cell_type": "code",
      "source": [
        "def dfs_iterative(root):\n",
        "    if not root:\n",
        "        return\n",
        "\n",
        "    stack = [root]  # Usamos una pila para almacenar los nodos\n",
        "    while stack:\n",
        "        node = stack.pop()  # Sacamos el nodo de la pila\n",
        "        print(node.val)  # Procesamos el nodo actual\n",
        "\n",
        "        # Agregamos los hijos a la pila (derecho primero para que el izquierdo se procese primero)\n",
        "        if node.right:\n",
        "            stack.append(node.right)\n",
        "        if node.left:\n",
        "            stack.append(node.left)\n"
      ],
      "metadata": {
        "id": "F65ku0DC_PlK"
      },
      "execution_count": 8,
      "outputs": []
    },
    {
      "cell_type": "code",
      "source": [
        "# Prueba DFS y BFS\n",
        "print(\"DFS Recursivo:\")\n",
        "dfs_recursive(root)\n",
        "\n",
        "\n",
        "\n",
        "\n",
        "\n",
        "\n"
      ],
      "metadata": {
        "id": "hiyb8OLj_WHv",
        "outputId": "eebb022d-5d36-445c-f337-858517544586",
        "colab": {
          "base_uri": "https://localhost:8080/"
        }
      },
      "execution_count": 10,
      "outputs": [
        {
          "output_type": "stream",
          "name": "stdout",
          "text": [
            "DFS Recursivo:\n",
            "1\n",
            "2\n",
            "4\n",
            "5\n",
            "3\n",
            "6\n",
            "7\n"
          ]
        }
      ]
    },
    {
      "cell_type": "code",
      "source": [
        "print(\"\\nDFS Iterativo:\")\n",
        "dfs_iterative(root)\n",
        "\n",
        "print(\"\\nBFS:\")\n",
        "bfs(root)"
      ],
      "metadata": {
        "id": "qhrzflKr_vs_"
      },
      "execution_count": null,
      "outputs": []
    }
  ]
}