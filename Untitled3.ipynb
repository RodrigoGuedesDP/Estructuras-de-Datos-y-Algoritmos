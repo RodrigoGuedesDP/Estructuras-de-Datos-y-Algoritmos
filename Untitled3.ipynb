{
  "nbformat": 4,
  "nbformat_minor": 0,
  "metadata": {
    "colab": {
      "provenance": [],
      "authorship_tag": "ABX9TyOG/XndBd8IyKZ/xV1dR4lp",
      "include_colab_link": true
    },
    "kernelspec": {
      "name": "python3",
      "display_name": "Python 3"
    },
    "language_info": {
      "name": "python"
    }
  },
  "cells": [
    {
      "cell_type": "markdown",
      "metadata": {
        "id": "view-in-github",
        "colab_type": "text"
      },
      "source": [
        "<a href=\"https://colab.research.google.com/github/RodrigoGuedesDP/Estructuras-de-Datos-y-Algoritmos/blob/main/Untitled3.ipynb\" target=\"_parent\"><img src=\"https://colab.research.google.com/assets/colab-badge.svg\" alt=\"Open In Colab\"/></a>"
      ]
    },
    {
      "cell_type": "markdown",
      "source": [
        "\n",
        "Índice\n",
        "Given an integer array nums, return all the triplets [nums[i], nums[j], nums[k]] such that i != j, i != k, and j != k, and nums[i] + nums[j] + nums[k] == 0.\n",
        "\n",
        "Notice that the solution set must not contain duplicate triplets."
      ],
      "metadata": {
        "id": "aNW62_Dm1pzl"
      }
    },
    {
      "cell_type": "code",
      "execution_count": null,
      "metadata": {
        "id": "YHFUHhJp1njq"
      },
      "outputs": [],
      "source": [
        "class Solution:\n",
        "    def threeSum(self, nums):\n",
        "      triplets= []\n",
        "      for i in range(0,len(nums)):\n",
        "        for j in range(0,len(nums)):\n",
        "          if i != j:\n",
        "            third_number = - (nums[i]+ nums[j])\n",
        "            if third_number in nums:\n",
        "              triplet = [nums[i], nums[j], nums[k]]\n",
        "              #para evitar duplicados por posiciones distintas, ordenamos la lista\n",
        "              triplet.sort()\n",
        "              if triplet not in triplets:\n",
        "                triplets.append(triplet)\n",
        "      return triplets\n",
        "\n",
        "solution = Solution()\n",
        "\n",
        ""
      ]
    },
    {
      "cell_type": "code",
      "source": [
        "class Solution:\n",
        "    def threeSum(self, nums):\n",
        "      triplets= []\n",
        "      for number in nums:\n",
        "        for second_number in nums:\n",
        "          if number != second_number:\n",
        "            #el tercer numero es distinto de los otros 2\n",
        "            third_number = - (number + second_number)\n",
        "            if third_number in nums and third_number != second_number and third_number != number:\n",
        "              triplet = [number,second_number,third_number]\n",
        "              #para evitar duplicados por posiciones distintas\n",
        "              triplet.sort()\n",
        "              if triplet not in triplets:\n",
        "                triplets.append(triplet)\n",
        "      return triplets\n",
        "\n",
        "solution = Solution()\n",
        "\n",
        ""
      ],
      "metadata": {
        "id": "KVrHYy-x1tVU"
      },
      "execution_count": null,
      "outputs": []
    },
    {
      "cell_type": "code",
      "source": [
        "class Solution:\n",
        "    def threeSum(self, nums):\n",
        "      triplets= []\n",
        "      for i in range(0,len(nums)):\n",
        "        for j in range(0,len(nums)):\n",
        "          if i != j:\n",
        "            for k in range(0,len(nums)):\n",
        "              if k != i and k != j and nums[k] == -(nums[i]+ nums[j]):\n",
        "                triplet = [nums[i], nums[j], nums[k]]\n",
        "                #para evitar duplicados por posiciones distintas, ordenamos la lista\n",
        "                triplet.sort()\n",
        "                if triplet not in triplets:\n",
        "                  triplets.append(triplet)\n",
        "      return triplets\n",
        "\n",
        "solution = Solution()\n"
      ],
      "metadata": {
        "id": "Vb-Aapkw1vtG"
      },
      "execution_count": null,
      "outputs": []
    },
    {
      "cell_type": "code",
      "source": [
        "nums = [-1,0,1,2,-1,-4]\n",
        "#Output: [[-1,-1,2],[-1,0,1]]\n",
        "solution.threeSum(nums)"
      ],
      "metadata": {
        "id": "UnrvErT31yp-"
      },
      "execution_count": null,
      "outputs": []
    },
    {
      "cell_type": "code",
      "source": [
        "nums = [0,1,1]\n",
        "#Output: []\n",
        "solution.threeSum(nums)"
      ],
      "metadata": {
        "id": "evDP7Cce10Rq"
      },
      "execution_count": null,
      "outputs": []
    },
    {
      "cell_type": "code",
      "source": [
        "nums = [0,0,0]\n",
        "#Output: [[0,0,0]]\n",
        "solution.threeSum(nums)"
      ],
      "metadata": {
        "id": "rstGNAMM11Dh"
      },
      "execution_count": null,
      "outputs": []
    }
  ]
}